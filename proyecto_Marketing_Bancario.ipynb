{
  "cells": [
    {
      "cell_type": "markdown",
      "metadata": {
        "id": "KNZ1PogUJPTV"
      },
      "source": [
        "# Proyecto Marketing Bancario\n",
        "---\n",
        "Intergantes:\n",
        "\n",
        "| Nombre | apellido |\n",
        "| ---- | ---- |\n",
        "| Melany Odet | Castañeda Bazaldúa |\n",
        "| Genesis Guadalupe | Ibarra Iturbe |\n",
        "| silvestre | Hernandez Hernandez |\n",
        "| Alan Aarón | Martinez Celedonio |\n",
        "\n"
      ]
    },
    {
      "cell_type": "markdown",
      "metadata": {
        "id": "4wi4IDGsPvbP"
      },
      "source": [
        "## Datos de la actividad"
      ]
    },
    {
      "cell_type": "markdown",
      "metadata": {
        "id": "E6roTeP-Mr5V"
      },
      "source": [
        "### Descripción de Variables del Dataset de Marketing Bancario\n",
        "\n",
        "Este dataset contiene datos de una campaña de marketing bancario, donde se recopiló información sobre interacciones con clientes con el objetivo de predecir la efectividad de las campañas y mejorar las estrategias futuras. Los datos ofrecen una visión comprensiva sobre las características de los clientes y su respuesta a las campañas de telemarketing, permitiendo a los analistas explorar y descubrir patrones que pueden mejorar la efectividad de las futuras acciones de marketing. El análisis de este dataset ayudará a responder preguntas clave como la influencia del perfil demográfico y financiero del cliente en su disposición a suscribir nuevos servicios bancarios.\n",
        "\n",
        "- **Edad**: Edad del cliente.\n",
        "- **Trabajo**: Tipo de trabajo del cliente (ej. 'admin.', 'technician', 'services', etc.).\n",
        "- **Estado_Civil**: Estado civil del cliente (ej. 'married', 'single', 'divorced').\n",
        "- **Educacion**: Nivel educativo del cliente (ej. 'primary', 'secondary', 'tertiary').\n",
        "- **Default**: Indica si el cliente tiene crédito en mora ('yes', 'no').\n",
        "- **Balance**: Saldo anual promedio, en euros.\n",
        "- **Vivienda**: Indica si el cliente tiene un préstamo de vivienda ('yes', 'no').\n",
        "- **Prestamo**: Indica si el cliente tiene un préstamo personal ('yes', 'no').\n",
        "- **Contacto**: Tipo de comunicación de contacto utilizada (ej. 'telephone', 'cellular', 'unknown').\n",
        "- **Dia**: Día del mes en que se realizó el último contacto.\n",
        "- **Mes**: Mes del año en que se realizó el último contacto (ej. 'jan', 'feb', 'mar', etc.).\n",
        "- **Duracion**: Duración del último contacto, en segundos.\n",
        "- **Campania**: Número de contactos realizados durante esta campaña y para este cliente.\n",
        "- **Pdias**: Número de días que pasaron después de que el cliente fue contactado por última vez desde una campaña anterior.\n",
        "- **Anterior**: Número de contactos realizados antes de esta campaña y para este cliente.\n",
        "- **Resultado_Anterior**: Resultado de la campaña de marketing anterior (ej. 'failure', 'nonexistent', 'success').\n",
        "- **Deposito**: Indica si el cliente ha suscrito un depósito a plazo ('yes', 'no')."
      ]
    },
    {
      "cell_type": "markdown",
      "metadata": {},
      "source": [
        "Importacion de librerias"
      ]
    },
    {
      "cell_type": "code",
      "execution_count": 5,
      "metadata": {},
      "outputs": [],
      "source": [
        "import pandas as pd\n",
        "import numpy as np\n",
        "import matplotlib.pyplot as plt\n",
        "import seaborn as sns\n",
        "from sklearn.preprocessing import LabelEncoder, StandardScaler\n",
        "from sklearn.impute import SimpleImputer"
      ]
    },
    {
      "cell_type": "markdown",
      "metadata": {
        "id": "zi2LJgU3P5wG"
      },
      "source": [
        "## Criterios a cumplir"
      ]
    },
    {
      "cell_type": "markdown",
      "metadata": {
        "id": "FJLnR-XmQAhH"
      },
      "source": [
        "### Datos cargados y Visualizados Correctamente"
      ]
    },
    {
      "cell_type": "code",
      "execution_count": 9,
      "metadata": {
        "id": "X8NYh5dPQQcG"
      },
      "outputs": [
        {
          "name": "stdout",
          "output_type": "stream",
          "text": [
            "Primeras filas del dataset:\n",
            "   Edad     Trabajo Estado_Civil  Educacion Default  Balance Vivienda  \\\n",
            "0    59      admin.      married  secondary      no     2343      yes   \n",
            "1    56      admin.      married  secondary      no       45       no   \n",
            "2    41  technician      married  secondary      no     1270      yes   \n",
            "3    55    services      married  secondary      no     2476      yes   \n",
            "4    54      admin.      married   tertiary      no      184       no   \n",
            "\n",
            "  Prestamo Contacto  Dia  Mes  Duracion  Campania  Pdias  Anterior  \\\n",
            "0       no  unknown    5  may      1042         1     -1         0   \n",
            "1       no  unknown    5  may      1467         1     -1         0   \n",
            "2       no  unknown    5  may      1389         1     -1         0   \n",
            "3       no  unknown    5  may       579         1     -1         0   \n",
            "4       no  unknown    5  may       673         2     -1         0   \n",
            "\n",
            "  Resultado_Anterior Deposito  \n",
            "0            unknown      yes  \n",
            "1            unknown      yes  \n",
            "2            unknown      yes  \n",
            "3            unknown      yes  \n",
            "4            unknown      yes  \n",
            "\n",
            "Información del dataset:\n",
            "<class 'pandas.core.frame.DataFrame'>\n",
            "RangeIndex: 11162 entries, 0 to 11161\n",
            "Data columns (total 17 columns):\n",
            " #   Column              Non-Null Count  Dtype \n",
            "---  ------              --------------  ----- \n",
            " 0   Edad                11162 non-null  int64 \n",
            " 1   Trabajo             11162 non-null  object\n",
            " 2   Estado_Civil        11162 non-null  object\n",
            " 3   Educacion           11162 non-null  object\n",
            " 4   Default             11162 non-null  object\n",
            " 5   Balance             11162 non-null  int64 \n",
            " 6   Vivienda            11162 non-null  object\n",
            " 7   Prestamo            11162 non-null  object\n",
            " 8   Contacto            11162 non-null  object\n",
            " 9   Dia                 11162 non-null  int64 \n",
            " 10  Mes                 11162 non-null  object\n",
            " 11  Duracion            11162 non-null  int64 \n",
            " 12  Campania            11162 non-null  int64 \n",
            " 13  Pdias               11162 non-null  int64 \n",
            " 14  Anterior            11162 non-null  int64 \n",
            " 15  Resultado_Anterior  11162 non-null  object\n",
            " 16  Deposito            11162 non-null  object\n",
            "dtypes: int64(7), object(10)\n",
            "memory usage: 1.4+ MB\n",
            "None\n"
          ]
        }
      ],
      "source": [
        "# Carga de datos\n",
        "df = pd.read_csv('Marketing.csv')\n",
        "print(\"Primeras filas del dataset:\")\n",
        "print(df.head())\n",
        "print(\"\\nInformación del dataset:\")\n",
        "print(df.info())\n"
      ]
    },
    {
      "cell_type": "markdown",
      "metadata": {
        "id": "UWaQsB5hQTF_"
      },
      "source": [
        "### Exploración de Inicial de Datos"
      ]
    },
    {
      "cell_type": "code",
      "execution_count": 10,
      "metadata": {
        "id": "MiYpAK24QX0C"
      },
      "outputs": [
        {
          "name": "stdout",
          "output_type": "stream",
          "text": [
            "\n",
            "Estadísticas descriptivas:\n",
            "               Edad       Balance           Dia      Duracion      Campania  \\\n",
            "count  11162.000000  11162.000000  11162.000000  11162.000000  11162.000000   \n",
            "mean      41.231948   1528.538524     15.658036    371.993818      2.508421   \n",
            "std       11.913369   3225.413326      8.420740    347.128386      2.722077   \n",
            "min       18.000000  -6847.000000      1.000000      2.000000      1.000000   \n",
            "25%       32.000000    122.000000      8.000000    138.000000      1.000000   \n",
            "50%       39.000000    550.000000     15.000000    255.000000      2.000000   \n",
            "75%       49.000000   1708.000000     22.000000    496.000000      3.000000   \n",
            "max       95.000000  81204.000000     31.000000   3881.000000     63.000000   \n",
            "\n",
            "              Pdias      Anterior  \n",
            "count  11162.000000  11162.000000  \n",
            "mean      51.330407      0.832557  \n",
            "std      108.758282      2.292007  \n",
            "min       -1.000000      0.000000  \n",
            "25%       -1.000000      0.000000  \n",
            "50%       -1.000000      0.000000  \n",
            "75%       20.750000      1.000000  \n",
            "max      854.000000     58.000000  \n",
            "\n",
            "Número de valores únicos por columna:\n",
            "Edad                    76\n",
            "Trabajo                 12\n",
            "Estado_Civil             3\n",
            "Educacion                4\n",
            "Default                  2\n",
            "Balance               3805\n",
            "Vivienda                 2\n",
            "Prestamo                 2\n",
            "Contacto                 3\n",
            "Dia                     31\n",
            "Mes                     12\n",
            "Duracion              1428\n",
            "Campania                36\n",
            "Pdias                  472\n",
            "Anterior                34\n",
            "Resultado_Anterior       4\n",
            "Deposito                 2\n",
            "dtype: int64\n"
          ]
        }
      ],
      "source": [
        "# 2. Exploración Inicial de Datos (5 puntos)\n",
        "print(\"\\nEstadísticas descriptivas:\")\n",
        "print(df.describe())\n",
        "\n",
        "print(\"\\nNúmero de valores únicos por columna:\")\n",
        "print(df.nunique())"
      ]
    },
    {
      "cell_type": "markdown",
      "metadata": {
        "id": "B42BQQ0_QZ-k"
      },
      "source": [
        "### Limpieza de datos"
      ]
    },
    {
      "cell_type": "code",
      "execution_count": 11,
      "metadata": {
        "id": "2Ity7l0GQdv7"
      },
      "outputs": [
        {
          "name": "stdout",
          "output_type": "stream",
          "text": [
            "\n",
            "Valores atípicos en 'Balance' tratados\n"
          ]
        }
      ],
      "source": [
        "# 3. Limpieza de Datos (5 puntos)\n",
        "# Tratamiento de valores atípicos en 'Balance'\n",
        "Q1 = df['Balance'].quantile(0.25)\n",
        "Q3 = df['Balance'].quantile(0.75)\n",
        "IQR = Q3 - Q1\n",
        "lower_bound = Q1 - 1.5 * IQR\n",
        "upper_bound = Q3 + 1.5 * IQR\n",
        "df['Balance'] = df['Balance'].clip(lower_bound, upper_bound)\n",
        "\n",
        "print(\"\\nValores atípicos en 'Balance' tratados\")"
      ]
    },
    {
      "cell_type": "markdown",
      "metadata": {
        "id": "42mSaxnsQfHK"
      },
      "source": [
        "### Transformación de Variables"
      ]
    },
    {
      "cell_type": "code",
      "execution_count": 12,
      "metadata": {
        "id": "8i8ARD3QQjat"
      },
      "outputs": [
        {
          "name": "stdout",
          "output_type": "stream",
          "text": [
            "\n",
            "Nueva variable 'Edad_Categoria' creada\n"
          ]
        }
      ],
      "source": [
        "# 4. Transformación de Variables (5 puntos)\n",
        "df['Edad_Categoria'] = pd.cut(df['Edad'], bins=[0, 30, 50, 100], labels=['Joven', 'Adulto', 'Mayor'])\n",
        "print(\"\\nNueva variable 'Edad_Categoria' creada\")"
      ]
    },
    {
      "cell_type": "markdown",
      "metadata": {
        "id": "2-QHYgzBQkwG"
      },
      "source": [
        "### Visualizaciones"
      ]
    },
    {
      "cell_type": "code",
      "execution_count": null,
      "metadata": {
        "id": "JEUz9MxwQnsG"
      },
      "outputs": [],
      "source": [
        "# Código"
      ]
    },
    {
      "cell_type": "markdown",
      "metadata": {
        "id": "wU73yXwpQqYO"
      },
      "source": [
        "### Correlaciones y Analisis Estadístico Básico"
      ]
    },
    {
      "cell_type": "code",
      "execution_count": null,
      "metadata": {
        "id": "GvdDmoj_QwLh"
      },
      "outputs": [],
      "source": [
        "# Código"
      ]
    },
    {
      "cell_type": "markdown",
      "metadata": {
        "id": "BtywZI3jQyph"
      },
      "source": [
        "### Selección y Creación de Nuevas Caracteristicas"
      ]
    },
    {
      "cell_type": "code",
      "execution_count": null,
      "metadata": {
        "id": "DqJiwcJ5Q4RX"
      },
      "outputs": [],
      "source": [
        "# Código"
      ]
    },
    {
      "cell_type": "markdown",
      "metadata": {
        "id": "o0ripOHhQ5lN"
      },
      "source": [
        "### Preparación de Datasets para Modelado"
      ]
    },
    {
      "cell_type": "code",
      "execution_count": null,
      "metadata": {
        "id": "Lj9-zwQMQ_Io"
      },
      "outputs": [],
      "source": [
        "# Código"
      ]
    },
    {
      "cell_type": "markdown",
      "metadata": {
        "id": "OaITF6vrRB2E"
      },
      "source": [
        "### Selección de Algoritmos Adecuados"
      ]
    },
    {
      "cell_type": "code",
      "execution_count": null,
      "metadata": {
        "id": "smaJNMasRGeo"
      },
      "outputs": [],
      "source": [
        "# Código"
      ]
    },
    {
      "cell_type": "markdown",
      "metadata": {
        "id": "6fyCFZxSRIsT"
      },
      "source": [
        "### Implementación Correcta de Modelos"
      ]
    },
    {
      "cell_type": "code",
      "execution_count": null,
      "metadata": {
        "id": "_18yirw7RLq4"
      },
      "outputs": [],
      "source": [
        "# Código"
      ]
    },
    {
      "cell_type": "markdown",
      "metadata": {
        "id": "kXrjc7mzRPYm"
      },
      "source": [
        "### Evaluación del Modelo"
      ]
    },
    {
      "cell_type": "code",
      "execution_count": null,
      "metadata": {
        "id": "lNhrtSQrRR7W"
      },
      "outputs": [],
      "source": [
        "# Código"
      ]
    },
    {
      "cell_type": "markdown",
      "metadata": {
        "id": "NMAwRcr-RTdy"
      },
      "source": [
        "### Interpretación de Resultados"
      ]
    },
    {
      "cell_type": "code",
      "execution_count": null,
      "metadata": {
        "id": "egu1EjYbRYfX"
      },
      "outputs": [],
      "source": [
        "# Código"
      ]
    },
    {
      "cell_type": "markdown",
      "metadata": {
        "id": "kWDZWxkqRcsD"
      },
      "source": [
        "### Conclusiones y recomendaciones"
      ]
    },
    {
      "cell_type": "code",
      "execution_count": null,
      "metadata": {
        "id": "v0vcAdoARglh"
      },
      "outputs": [],
      "source": [
        "# Código"
      ]
    }
  ],
  "metadata": {
    "colab": {
      "provenance": []
    },
    "kernelspec": {
      "display_name": "Python 3",
      "name": "python3"
    },
    "language_info": {
      "codemirror_mode": {
        "name": "ipython",
        "version": 3
      },
      "file_extension": ".py",
      "mimetype": "text/x-python",
      "name": "python",
      "nbconvert_exporter": "python",
      "pygments_lexer": "ipython3",
      "version": "3.12.4"
    }
  },
  "nbformat": 4,
  "nbformat_minor": 0
}
