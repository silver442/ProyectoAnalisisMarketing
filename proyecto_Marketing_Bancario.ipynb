{
  "cells": [
    {
      "cell_type": "markdown",
      "metadata": {
        "id": "KNZ1PogUJPTV"
      },
      "source": [
        "# Proyecto Marketing Bancario\n",
        "---\n",
        "Intergantes:\n",
        "\n",
        "| Nombre | apellido |\n",
        "| ---- | ---- |\n",
        "| Melany | Odet Castañeda Bazaldúa |\n",
        "| Genesis | Guadalupe Ibarra Iturbe\n",
        "| silvestre | Hernandez Hernandez\n",
        "| Alan Aarón | Martinez Celedonio\n",
        "\n"
      ]
    },
    {
      "cell_type": "markdown",
      "metadata": {
        "id": "4wi4IDGsPvbP"
      },
      "source": [
        "## Datos de la actividad"
      ]
    },
    {
      "cell_type": "markdown",
      "metadata": {
        "id": "E6roTeP-Mr5V"
      },
      "source": [
        "### Descripción de Variables del Dataset de Marketing Bancario\n",
        "\n",
        "Este dataset contiene datos de una campaña de marketing bancario, donde se recopiló información sobre interacciones con clientes con el objetivo de predecir la efectividad de las campañas y mejorar las estrategias futuras. Los datos ofrecen una visión comprensiva sobre las características de los clientes y su respuesta a las campañas de telemarketing, permitiendo a los analistas explorar y descubrir patrones que pueden mejorar la efectividad de las futuras acciones de marketing. El análisis de este dataset ayudará a responder preguntas clave como la influencia del perfil demográfico y financiero del cliente en su disposición a suscribir nuevos servicios bancarios.\n",
        "\n",
        "- **Edad**: Edad del cliente.\n",
        "- **Trabajo**: Tipo de trabajo del cliente (ej. 'admin.', 'technician', 'services', etc.).\n",
        "- **Estado_Civil**: Estado civil del cliente (ej. 'married', 'single', 'divorced').\n",
        "- **Educacion**: Nivel educativo del cliente (ej. 'primary', 'secondary', 'tertiary').\n",
        "- **Default**: Indica si el cliente tiene crédito en mora ('yes', 'no').\n",
        "- **Balance**: Saldo anual promedio, en euros.\n",
        "- **Vivienda**: Indica si el cliente tiene un préstamo de vivienda ('yes', 'no').\n",
        "- **Prestamo**: Indica si el cliente tiene un préstamo personal ('yes', 'no').\n",
        "- **Contacto**: Tipo de comunicación de contacto utilizada (ej. 'telephone', 'cellular', 'unknown').\n",
        "- **Dia**: Día del mes en que se realizó el último contacto.\n",
        "- **Mes**: Mes del año en que se realizó el último contacto (ej. 'jan', 'feb', 'mar', etc.).\n",
        "- **Duracion**: Duración del último contacto, en segundos.\n",
        "- **Campania**: Número de contactos realizados durante esta campaña y para este cliente.\n",
        "- **Pdias**: Número de días que pasaron después de que el cliente fue contactado por última vez desde una campaña anterior.\n",
        "- **Anterior**: Número de contactos realizados antes de esta campaña y para este cliente.\n",
        "- **Resultado_Anterior**: Resultado de la campaña de marketing anterior (ej. 'failure', 'nonexistent', 'success').\n",
        "- **Deposito**: Indica si el cliente ha suscrito un depósito a plazo ('yes', 'no')."
      ]
    },
    {
      "cell_type": "code",
      "execution_count": 2,
      "metadata": {
        "colab": {
          "base_uri": "https://localhost:8080/",
          "height": 519
        },
        "collapsed": true,
        "id": "bgw0TucUI9du",
        "outputId": "a9a5c09c-12d9-4119-e5d3-e5cd66bd1e49"
      },
      "outputs": [
        {
          "data": {
            "text/html": [
              "<div>\n",
              "<style scoped>\n",
              "    .dataframe tbody tr th:only-of-type {\n",
              "        vertical-align: middle;\n",
              "    }\n",
              "\n",
              "    .dataframe tbody tr th {\n",
              "        vertical-align: top;\n",
              "    }\n",
              "\n",
              "    .dataframe thead th {\n",
              "        text-align: right;\n",
              "    }\n",
              "</style>\n",
              "<table border=\"1\" class=\"dataframe\">\n",
              "  <thead>\n",
              "    <tr style=\"text-align: right;\">\n",
              "      <th></th>\n",
              "      <th>Edad</th>\n",
              "      <th>Trabajo</th>\n",
              "      <th>Estado_Civil</th>\n",
              "      <th>Educacion</th>\n",
              "      <th>Default</th>\n",
              "      <th>Balance</th>\n",
              "      <th>Vivienda</th>\n",
              "      <th>Prestamo</th>\n",
              "      <th>Contacto</th>\n",
              "      <th>Dia</th>\n",
              "      <th>Mes</th>\n",
              "      <th>Duracion</th>\n",
              "      <th>Campania</th>\n",
              "      <th>Pdias</th>\n",
              "      <th>Anterior</th>\n",
              "      <th>Resultado_Anterior</th>\n",
              "      <th>Deposito</th>\n",
              "    </tr>\n",
              "  </thead>\n",
              "  <tbody>\n",
              "    <tr>\n",
              "      <th>0</th>\n",
              "      <td>59</td>\n",
              "      <td>admin.</td>\n",
              "      <td>married</td>\n",
              "      <td>secondary</td>\n",
              "      <td>no</td>\n",
              "      <td>2343</td>\n",
              "      <td>yes</td>\n",
              "      <td>no</td>\n",
              "      <td>unknown</td>\n",
              "      <td>5</td>\n",
              "      <td>may</td>\n",
              "      <td>1042</td>\n",
              "      <td>1</td>\n",
              "      <td>-1</td>\n",
              "      <td>0</td>\n",
              "      <td>unknown</td>\n",
              "      <td>yes</td>\n",
              "    </tr>\n",
              "    <tr>\n",
              "      <th>1</th>\n",
              "      <td>56</td>\n",
              "      <td>admin.</td>\n",
              "      <td>married</td>\n",
              "      <td>secondary</td>\n",
              "      <td>no</td>\n",
              "      <td>45</td>\n",
              "      <td>no</td>\n",
              "      <td>no</td>\n",
              "      <td>unknown</td>\n",
              "      <td>5</td>\n",
              "      <td>may</td>\n",
              "      <td>1467</td>\n",
              "      <td>1</td>\n",
              "      <td>-1</td>\n",
              "      <td>0</td>\n",
              "      <td>unknown</td>\n",
              "      <td>yes</td>\n",
              "    </tr>\n",
              "    <tr>\n",
              "      <th>2</th>\n",
              "      <td>41</td>\n",
              "      <td>technician</td>\n",
              "      <td>married</td>\n",
              "      <td>secondary</td>\n",
              "      <td>no</td>\n",
              "      <td>1270</td>\n",
              "      <td>yes</td>\n",
              "      <td>no</td>\n",
              "      <td>unknown</td>\n",
              "      <td>5</td>\n",
              "      <td>may</td>\n",
              "      <td>1389</td>\n",
              "      <td>1</td>\n",
              "      <td>-1</td>\n",
              "      <td>0</td>\n",
              "      <td>unknown</td>\n",
              "      <td>yes</td>\n",
              "    </tr>\n",
              "    <tr>\n",
              "      <th>3</th>\n",
              "      <td>55</td>\n",
              "      <td>services</td>\n",
              "      <td>married</td>\n",
              "      <td>secondary</td>\n",
              "      <td>no</td>\n",
              "      <td>2476</td>\n",
              "      <td>yes</td>\n",
              "      <td>no</td>\n",
              "      <td>unknown</td>\n",
              "      <td>5</td>\n",
              "      <td>may</td>\n",
              "      <td>579</td>\n",
              "      <td>1</td>\n",
              "      <td>-1</td>\n",
              "      <td>0</td>\n",
              "      <td>unknown</td>\n",
              "      <td>yes</td>\n",
              "    </tr>\n",
              "    <tr>\n",
              "      <th>4</th>\n",
              "      <td>54</td>\n",
              "      <td>admin.</td>\n",
              "      <td>married</td>\n",
              "      <td>tertiary</td>\n",
              "      <td>no</td>\n",
              "      <td>184</td>\n",
              "      <td>no</td>\n",
              "      <td>no</td>\n",
              "      <td>unknown</td>\n",
              "      <td>5</td>\n",
              "      <td>may</td>\n",
              "      <td>673</td>\n",
              "      <td>2</td>\n",
              "      <td>-1</td>\n",
              "      <td>0</td>\n",
              "      <td>unknown</td>\n",
              "      <td>yes</td>\n",
              "    </tr>\n",
              "  </tbody>\n",
              "</table>\n",
              "</div>"
            ],
            "text/plain": [
              "   Edad     Trabajo Estado_Civil  Educacion Default  Balance Vivienda  \\\n",
              "0    59      admin.      married  secondary      no     2343      yes   \n",
              "1    56      admin.      married  secondary      no       45       no   \n",
              "2    41  technician      married  secondary      no     1270      yes   \n",
              "3    55    services      married  secondary      no     2476      yes   \n",
              "4    54      admin.      married   tertiary      no      184       no   \n",
              "\n",
              "  Prestamo Contacto  Dia  Mes  Duracion  Campania  Pdias  Anterior  \\\n",
              "0       no  unknown    5  may      1042         1     -1         0   \n",
              "1       no  unknown    5  may      1467         1     -1         0   \n",
              "2       no  unknown    5  may      1389         1     -1         0   \n",
              "3       no  unknown    5  may       579         1     -1         0   \n",
              "4       no  unknown    5  may       673         2     -1         0   \n",
              "\n",
              "  Resultado_Anterior Deposito  \n",
              "0            unknown      yes  \n",
              "1            unknown      yes  \n",
              "2            unknown      yes  \n",
              "3            unknown      yes  \n",
              "4            unknown      yes  "
            ]
          },
          "execution_count": 2,
          "metadata": {},
          "output_type": "execute_result"
        }
      ],
      "source": [
        "import pandas as pd\n",
        "# Cargar el archivo CSV en un DataFrame\n",
        "df = pd.read_csv('Marketing.csv')\n",
        "\n",
        "# Mostrar las primeras filas del DataFrame\n",
        "df.head()"
      ]
    },
    {
      "cell_type": "markdown",
      "metadata": {
        "id": "zi2LJgU3P5wG"
      },
      "source": [
        "## Criterios a cumplir"
      ]
    },
    {
      "cell_type": "markdown",
      "metadata": {
        "id": "FJLnR-XmQAhH"
      },
      "source": [
        "### Datos cargados y Visualizados Correctamente"
      ]
    },
    {
      "cell_type": "code",
      "execution_count": null,
      "metadata": {
        "id": "X8NYh5dPQQcG"
      },
      "outputs": [],
      "source": [
        "# Código"
      ]
    },
    {
      "cell_type": "markdown",
      "metadata": {
        "id": "UWaQsB5hQTF_"
      },
      "source": [
        "### Exploración de Inicial de Datos"
      ]
    },
    {
      "cell_type": "code",
      "execution_count": null,
      "metadata": {
        "id": "MiYpAK24QX0C"
      },
      "outputs": [],
      "source": [
        "# Código"
      ]
    },
    {
      "cell_type": "markdown",
      "metadata": {
        "id": "B42BQQ0_QZ-k"
      },
      "source": [
        "### Limpieza de datos"
      ]
    },
    {
      "cell_type": "code",
      "execution_count": null,
      "metadata": {
        "id": "2Ity7l0GQdv7"
      },
      "outputs": [],
      "source": [
        "# Código"
      ]
    },
    {
      "cell_type": "markdown",
      "metadata": {
        "id": "42mSaxnsQfHK"
      },
      "source": [
        "### Transformación de Variables"
      ]
    },
    {
      "cell_type": "code",
      "execution_count": null,
      "metadata": {
        "id": "8i8ARD3QQjat"
      },
      "outputs": [],
      "source": [
        "# Código"
      ]
    },
    {
      "cell_type": "markdown",
      "metadata": {
        "id": "2-QHYgzBQkwG"
      },
      "source": [
        "Visualizaciones"
      ]
    },
    {
      "cell_type": "code",
      "execution_count": null,
      "metadata": {
        "id": "JEUz9MxwQnsG"
      },
      "outputs": [],
      "source": [
        "# Código"
      ]
    },
    {
      "cell_type": "markdown",
      "metadata": {
        "id": "wU73yXwpQqYO"
      },
      "source": [
        "### Correlaciones y Analisis Estadístico Básico"
      ]
    },
    {
      "cell_type": "code",
      "execution_count": null,
      "metadata": {
        "id": "GvdDmoj_QwLh"
      },
      "outputs": [],
      "source": [
        "# Código"
      ]
    },
    {
      "cell_type": "markdown",
      "metadata": {
        "id": "BtywZI3jQyph"
      },
      "source": [
        "Selección y Creación de Nuevas Caracteristicas"
      ]
    },
    {
      "cell_type": "code",
      "execution_count": null,
      "metadata": {
        "id": "DqJiwcJ5Q4RX"
      },
      "outputs": [],
      "source": [
        "# Código"
      ]
    },
    {
      "cell_type": "markdown",
      "metadata": {
        "id": "o0ripOHhQ5lN"
      },
      "source": [
        "### Preparación de Datasets para Modelado"
      ]
    },
    {
      "cell_type": "code",
      "execution_count": null,
      "metadata": {
        "id": "Lj9-zwQMQ_Io"
      },
      "outputs": [],
      "source": [
        "# Código"
      ]
    },
    {
      "cell_type": "markdown",
      "metadata": {
        "id": "OaITF6vrRB2E"
      },
      "source": [
        "### Selección de Algoritmos Adecuados"
      ]
    },
    {
      "cell_type": "code",
      "execution_count": null,
      "metadata": {
        "id": "smaJNMasRGeo"
      },
      "outputs": [],
      "source": [
        "# Código"
      ]
    },
    {
      "cell_type": "markdown",
      "metadata": {
        "id": "6fyCFZxSRIsT"
      },
      "source": [
        "Implementación Correcta de Modelos"
      ]
    },
    {
      "cell_type": "code",
      "execution_count": null,
      "metadata": {
        "id": "_18yirw7RLq4"
      },
      "outputs": [],
      "source": [
        "# Código"
      ]
    },
    {
      "cell_type": "markdown",
      "metadata": {
        "id": "kXrjc7mzRPYm"
      },
      "source": [
        "### Evaluación del Modelo"
      ]
    },
    {
      "cell_type": "code",
      "execution_count": null,
      "metadata": {
        "id": "lNhrtSQrRR7W"
      },
      "outputs": [],
      "source": [
        "# Código"
      ]
    },
    {
      "cell_type": "markdown",
      "metadata": {
        "id": "NMAwRcr-RTdy"
      },
      "source": [
        "### Interpretación de Resultados"
      ]
    },
    {
      "cell_type": "code",
      "execution_count": null,
      "metadata": {
        "id": "egu1EjYbRYfX"
      },
      "outputs": [],
      "source": [
        "# Código"
      ]
    },
    {
      "cell_type": "markdown",
      "metadata": {
        "id": "kWDZWxkqRcsD"
      },
      "source": [
        "### Conclusiones y recomendaciones"
      ]
    },
    {
      "cell_type": "code",
      "execution_count": null,
      "metadata": {
        "id": "v0vcAdoARglh"
      },
      "outputs": [],
      "source": [
        "# Código"
      ]
    }
  ],
  "metadata": {
    "colab": {
      "provenance": []
    },
    "kernelspec": {
      "display_name": "Python 3",
      "name": "python3"
    },
    "language_info": {
      "codemirror_mode": {
        "name": "ipython",
        "version": 3
      },
      "file_extension": ".py",
      "mimetype": "text/x-python",
      "name": "python",
      "nbconvert_exporter": "python",
      "pygments_lexer": "ipython3",
      "version": "3.11.7"
    }
  },
  "nbformat": 4,
  "nbformat_minor": 0
}
