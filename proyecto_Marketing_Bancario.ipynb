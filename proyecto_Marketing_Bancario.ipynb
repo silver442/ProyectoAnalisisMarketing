{
  "cells": [
    {
      "cell_type": "markdown",
      "metadata": {
        "id": "KNZ1PogUJPTV"
      },
      "source": [
        "# Proyecto Marketing Bancario\n",
        "---\n",
        "Equipo 1:\n",
        "\n",
        "| Nombre | apellido |\n",
        "| ---- | ---- |\n",
        "| Melany Odet | Castañeda Bazaldúa |\n",
        "| Genesis Guadalupe | Ibarra Iturbe |\n",
        "| Silvestre | Hernandez Hernandez |\n",
        "| Alan Aarón | Martinez Celedonio |\n",
        "\n"
      ]
    },
    {
      "cell_type": "markdown",
      "metadata": {
        "id": "4wi4IDGsPvbP"
      },
      "source": [
        "## Datos de la actividad"
      ]
    },
    {
      "cell_type": "markdown",
      "metadata": {
        "id": "E6roTeP-Mr5V"
      },
      "source": [
        "### Descripción de Variables del Dataset de Marketing Bancario\n",
        "\n",
        "Este dataset contiene datos de una campaña de marketing bancario, donde se recopiló información sobre interacciones con clientes con el objetivo de predecir la efectividad de las campañas y mejorar las estrategias futuras. Los datos ofrecen una visión comprensiva sobre las características de los clientes y su respuesta a las campañas de telemarketing, permitiendo a los analistas explorar y descubrir patrones que pueden mejorar la efectividad de las futuras acciones de marketing. El análisis de este dataset ayudará a responder preguntas clave como la influencia del perfil demográfico y financiero del cliente en su disposición a suscribir nuevos servicios bancarios.\n",
        "\n",
        "- **Edad**: Edad del cliente.\n",
        "- **Trabajo**: Tipo de trabajo del cliente (ej. 'admin.', 'technician', 'services', etc.).\n",
        "- **Estado_Civil**: Estado civil del cliente (ej. 'married', 'single', 'divorced').\n",
        "- **Educacion**: Nivel educativo del cliente (ej. 'primary', 'secondary', 'tertiary').\n",
        "- **Default**: Indica si el cliente tiene crédito en mora ('yes', 'no').\n",
        "- **Balance**: Saldo anual promedio, en euros.\n",
        "- **Vivienda**: Indica si el cliente tiene un préstamo de vivienda ('yes', 'no').\n",
        "- **Prestamo**: Indica si el cliente tiene un préstamo personal ('yes', 'no').\n",
        "- **Contacto**: Tipo de comunicación de contacto utilizada (ej. 'telephone', 'cellular', 'unknown').\n",
        "- **Dia**: Día del mes en que se realizó el último contacto.\n",
        "- **Mes**: Mes del año en que se realizó el último contacto (ej. 'jan', 'feb', 'mar', etc.).\n",
        "- **Duracion**: Duración del último contacto, en segundos.\n",
        "- **Campania**: Número de contactos realizados durante esta campaña y para este cliente.\n",
        "- **Pdias**: Número de días que pasaron después de que el cliente fue contactado por última vez desde una campaña anterior.\n",
        "- **Anterior**: Número de contactos realizados antes de esta campaña y para este cliente.\n",
        "- **Resultado_Anterior**: Resultado de la campaña de marketing anterior (ej. 'failure', 'nonexistent', 'success').\n",
        "- **Deposito**: Indica si el cliente ha suscrito un depósito a plazo ('yes', 'no')."
      ]
    },
    {
      "cell_type": "markdown",
      "metadata": {},
      "source": [
        "Importación de librerias"
      ]
    },
    {
      "cell_type": "code",
      "execution_count": 17,
      "metadata": {},
      "outputs": [],
      "source": [
        "\n",
        "import pandas as pd\n",
        "import numpy as np\n",
        "import matplotlib.pyplot as plt\n",
        "import seaborn as sns\n",
        "from sklearn.preprocessing import LabelEncoder, StandardScaler\n",
        "from sklearn.impute import SimpleImputer\n",
        "import plotly.graph_objects as go\n",
        "import plotly.express as px"
      ]
    },
    {
      "cell_type": "markdown",
      "metadata": {
        "id": "zi2LJgU3P5wG"
      },
      "source": [
        "## Criterios a cumplir"
      ]
    },
    {
      "cell_type": "markdown",
      "metadata": {
        "id": "FJLnR-XmQAhH"
      },
      "source": [
        "### Datos cargados y Visualizados Correctamente"
      ]
    },
    {
      "cell_type": "markdown",
      "metadata": {},
      "source": [
        "Esta sección importa las bibliotecas necesarias y carga el dataset desde un archivo CSV. Luego muestra las primeras filas del dataset y la información general sobre las columnas."
      ]
    },
    {
      "cell_type": "code",
      "execution_count": 3,
      "metadata": {
        "id": "X8NYh5dPQQcG"
      },
      "outputs": [
        {
          "name": "stdout",
          "output_type": "stream",
          "text": [
            "Primeras filas del dataset:\n",
            "   Edad     Trabajo Estado_Civil  Educacion Default  Balance Vivienda  \\\n",
            "0    59      admin.      married  secondary      no     2343      yes   \n",
            "1    56      admin.      married  secondary      no       45       no   \n",
            "2    41  technician      married  secondary      no     1270      yes   \n",
            "3    55    services      married  secondary      no     2476      yes   \n",
            "4    54      admin.      married   tertiary      no      184       no   \n",
            "\n",
            "  Prestamo Contacto  Dia  Mes  Duracion  Campania  Pdias  Anterior  \\\n",
            "0       no  unknown    5  may      1042         1     -1         0   \n",
            "1       no  unknown    5  may      1467         1     -1         0   \n",
            "2       no  unknown    5  may      1389         1     -1         0   \n",
            "3       no  unknown    5  may       579         1     -1         0   \n",
            "4       no  unknown    5  may       673         2     -1         0   \n",
            "\n",
            "  Resultado_Anterior Deposito  \n",
            "0            unknown      yes  \n",
            "1            unknown      yes  \n",
            "2            unknown      yes  \n",
            "3            unknown      yes  \n",
            "4            unknown      yes  \n",
            "\n",
            "Información del dataset:\n",
            "<class 'pandas.core.frame.DataFrame'>\n",
            "RangeIndex: 11162 entries, 0 to 11161\n",
            "Data columns (total 17 columns):\n",
            " #   Column              Non-Null Count  Dtype \n",
            "---  ------              --------------  ----- \n",
            " 0   Edad                11162 non-null  int64 \n",
            " 1   Trabajo             11162 non-null  object\n",
            " 2   Estado_Civil        11162 non-null  object\n",
            " 3   Educacion           11162 non-null  object\n",
            " 4   Default             11162 non-null  object\n",
            " 5   Balance             11162 non-null  int64 \n",
            " 6   Vivienda            11162 non-null  object\n",
            " 7   Prestamo            11162 non-null  object\n",
            " 8   Contacto            11162 non-null  object\n",
            " 9   Dia                 11162 non-null  int64 \n",
            " 10  Mes                 11162 non-null  object\n",
            " 11  Duracion            11162 non-null  int64 \n",
            " 12  Campania            11162 non-null  int64 \n",
            " 13  Pdias               11162 non-null  int64 \n",
            " 14  Anterior            11162 non-null  int64 \n",
            " 15  Resultado_Anterior  11162 non-null  object\n",
            " 16  Deposito            11162 non-null  object\n",
            "dtypes: int64(7), object(10)\n",
            "memory usage: 1.4+ MB\n",
            "None\n"
          ]
        }
      ],
      "source": [
        "# Carga de datos\n",
        "df = pd.read_csv('Marketing.csv')\n",
        "print(\"Primeras filas del dataset:\")\n",
        "print(df.head())\n",
        "print(\"\\nInformación del dataset:\")\n",
        "print(df.info())\n"
      ]
    },
    {
      "cell_type": "markdown",
      "metadata": {},
      "source": [
        "Este dataset contiene información detallada sobre una campaña de marketing realizada por un banco, abarcando un total de 11,162 clientes y 17 características por cliente. La información se puede categorizar en tres grandes áreas:\n",
        "\n",
        "### Datos Personales\n",
        "- Edad\n",
        "- Trabajo\n",
        "- Estado civil\n",
        "- Educación\n",
        "\n",
        "### Datos Financieros\n",
        "- Balance\n",
        "- Préstamos\n",
        "- Hipotecas\n",
        "\n",
        "### Detalles de la Campaña\n",
        "- Duración de llamadas\n",
        "- Fechas de contacto\n",
        "- Resultado (si el cliente hizo un depósito o no)\n",
        "\n",
        "### Tipos de Datos\n",
        "- **Numéricos**: edad, balance, duración de llamadas\n",
        "- **Categóricos**: trabajo, estado civil, resultado de la campaña\n",
        "\n",
        "### Calidad de Datos\n",
        "El dataset no presenta valores nulos evidentes.\n",
        "\n",
        "### Posible Uso\n",
        "Este dataset es ideal para analizar los factores que influyen en la decisión de un cliente de hacer un depósito, con el fin de mejorar futuras campañas de marketing. Permite estudiar el comportamiento de los clientes y evaluar la efectividad de las estrategias de marketing bancario empleadas."
      ]
    },
    {
      "cell_type": "markdown",
      "metadata": {
        "id": "UWaQsB5hQTF_"
      },
      "source": [
        "### Exploración de Inicial de Datos"
      ]
    },
    {
      "cell_type": "markdown",
      "metadata": {},
      "source": [
        "Aquí se muestran estadísticas descriptivas básicas del dataset y el número de valores únicos en cada columna, lo que nos da una visión general de los datos."
      ]
    },
    {
      "cell_type": "code",
      "execution_count": 4,
      "metadata": {
        "id": "MiYpAK24QX0C"
      },
      "outputs": [
        {
          "name": "stdout",
          "output_type": "stream",
          "text": [
            "\n",
            "Estadísticas descriptivas:\n",
            "               Edad       Balance           Dia      Duracion      Campania  \\\n",
            "count  11162.000000  11162.000000  11162.000000  11162.000000  11162.000000   \n",
            "mean      41.231948   1528.538524     15.658036    371.993818      2.508421   \n",
            "std       11.913369   3225.413326      8.420740    347.128386      2.722077   \n",
            "min       18.000000  -6847.000000      1.000000      2.000000      1.000000   \n",
            "25%       32.000000    122.000000      8.000000    138.000000      1.000000   \n",
            "50%       39.000000    550.000000     15.000000    255.000000      2.000000   \n",
            "75%       49.000000   1708.000000     22.000000    496.000000      3.000000   \n",
            "max       95.000000  81204.000000     31.000000   3881.000000     63.000000   \n",
            "\n",
            "              Pdias      Anterior  \n",
            "count  11162.000000  11162.000000  \n",
            "mean      51.330407      0.832557  \n",
            "std      108.758282      2.292007  \n",
            "min       -1.000000      0.000000  \n",
            "25%       -1.000000      0.000000  \n",
            "50%       -1.000000      0.000000  \n",
            "75%       20.750000      1.000000  \n",
            "max      854.000000     58.000000  \n"
          ]
        }
      ],
      "source": [
        "# 2. Exploración Inicial de Datos\n",
        "print(\"\\nEstadísticas descriptivas:\")\n",
        "print(df.describe())"
      ]
    },
    {
      "cell_type": "markdown",
      "metadata": {
        "slideshow": {
          "slide_type": "slide"
        }
      },
      "source": [
        "## Valores Únicos por Columna\n",
        "\n",
        "El análisis de los valores únicos en cada columna del dataset proporciona una visión detallada de la diversidad de datos disponibles. A continuación, se presenta el número de valores únicos para cada columna:\n"
      ]
    },
    {
      "cell_type": "code",
      "execution_count": 5,
      "metadata": {},
      "outputs": [
        {
          "name": "stdout",
          "output_type": "stream",
          "text": [
            "\n",
            "Número de valores únicos por columna:\n",
            "Edad                    76\n",
            "Trabajo                 12\n",
            "Estado_Civil             3\n",
            "Educacion                4\n",
            "Default                  2\n",
            "Balance               3805\n",
            "Vivienda                 2\n",
            "Prestamo                 2\n",
            "Contacto                 3\n",
            "Dia                     31\n",
            "Mes                     12\n",
            "Duracion              1428\n",
            "Campania                36\n",
            "Pdias                  472\n",
            "Anterior                34\n",
            "Resultado_Anterior       4\n",
            "Deposito                 2\n",
            "dtype: int64\n"
          ]
        }
      ],
      "source": [
        "print(\"\\nNúmero de valores únicos por columna:\")\n",
        "print(df.nunique())"
      ]
    },
    {
      "cell_type": "markdown",
      "metadata": {},
      "source": [
        "\n",
        "### Interpretación\n",
        "Esta distribución de valores únicos por columna indica la variedad y la naturaleza de los datos en el dataset. Por ejemplo:\n",
        "- **Edad** y **Balance** muestran una alta variabilidad con 76 y 3805 valores únicos respectivamente.\n",
        "- **Trabajo** y **Educación** tienen una diversidad moderada, con 12 y 4 categorías diferentes.\n",
        "- Las columnas **Default**, **Vivienda**, y **Préstamo** tienen solo 2 valores únicos cada una, indicando respuestas binarias (por ejemplo, \"Sí\" o \"No\").\n",
        "- La columna **Depósito**, que es la variable objetivo, también tiene 2 valores únicos, reflejando la decisión binaria del cliente.\n",
        "\n",
        "Estos insights son fundamentales para entender la estructura de los datos y para diseñar estrategias de análisis y modelado adecuadas.\n"
      ]
    },
    {
      "cell_type": "markdown",
      "metadata": {
        "id": "B42BQQ0_QZ-k"
      },
      "source": [
        "## Limpieza de datos"
      ]
    },
    {
      "cell_type": "markdown",
      "metadata": {},
      "source": [
        "Esta parte trata los valores atípicos  en las columnas considerendo las características de cada columna y las posibles acciones de limpieza. Basándonos en la información inicial y en las prácticas comunes de limpieza de datos.\n"
      ]
    },
    {
      "cell_type": "markdown",
      "metadata": {},
      "source": [
        "## Edad: Verificación y Tratamiento de Valores\n",
        "\n",
        "### Verificación de Rango Válido\n",
        "Se verifica que todos los valores de la columna **Edad** estén dentro de un rango razonable. Para este análisis, se considera un rango válido de 18 a 100 años.\n",
        "\n",
        "### Tratamiento de Valores Atípicos\n",
        "Se tratan los valores atípicos ajustando cualquier edad que esté fuera del rango de 18 a 100 años. Esto asegura que no haya edades extremadamente altas o bajas que no sean realistas.\n"
      ]
    },
    {
      "cell_type": "code",
      "execution_count": 6,
      "metadata": {},
      "outputs": [],
      "source": [
        "# 1. Edad: Verificación de rango válido (suponemos rango razonable entre 18 y 100)\n",
        "df['Edad'] = df['Edad'].clip(lower=18, upper=100)"
      ]
    },
    {
      "cell_type": "markdown",
      "metadata": {},
      "source": [
        "### Interpretación\n",
        "Este proceso ayuda a garantizar que los datos de edad sean consistentes y realistas. Al limitar las edades al rango de 18 a 100 años, se evita que valores inusuales o errores en los datos afecten el análisis. Esto es importante para obtener resultados precisos y significativos en el análisis de los datos."
      ]
    },
    {
      "cell_type": "markdown",
      "metadata": {},
      "source": [
        "## Duración: Verificación y Tratamiento de Valores\n",
        "\n",
        "### Verificación de Rango Válido\n",
        "Se asegura que los valores de la columna **Duración** estén dentro de un rango razonable. Por ejemplo, no deberían existir duraciones negativas.\n",
        "\n",
        "### Tratamiento de Valores Atípicos\n",
        "Se tratan las duraciones extremadamente altas utilizando el método del rango intercuartílico (IQR) para identificar y ajustar los valores atípicos. Este método ayuda a mantener las duraciones dentro de un rango razonable y reducir el impacto de valores extremos en el análisis.\n"
      ]
    },
    {
      "cell_type": "code",
      "execution_count": 7,
      "metadata": {},
      "outputs": [],
      "source": [
        "# Duración: Tratamiento de valores atípicos\n",
        "Q1_duracion = df['Duracion'].quantile(0.25)\n",
        "Q3_duracion = df['Duracion'].quantile(0.75)\n",
        "IQR_duracion = Q3_duracion - Q1_duracion\n",
        "lower_bound_duracion = Q1_duracion - 1.5 * IQR_duracion\n",
        "upper_bound_duracion = Q3_duracion + 1.5 * IQR_duracion\n",
        "df['Duracion'] = df['Duracion'].clip(lower_bound_duracion, upper_bound_duracion)"
      ]
    },
    {
      "cell_type": "markdown",
      "metadata": {},
      "source": [
        "### Interpretación\n",
        "Este proceso asegura que las duraciones sean consistentes y realistas. Al verificar que no hay valores negativos y ajustar las duraciones extremadamente altas, se mejora la calidad de los datos. Esto es crucial para evitar que valores inusuales distorsionen el análisis y para obtener resultados más precisos y significativos."
      ]
    },
    {
      "cell_type": "markdown",
      "metadata": {},
      "source": [
        "## Campaña, Pdias, Anterior: Verificación y Tratamiento de Valores\n",
        "\n",
        "### Verificación de Rango Válido\n",
        "Para las columnas **Campaña**, **Pdias** y **Anterior**, se asegura que los valores sean razonables y no existan valores negativos inapropiados. \n",
        "\n",
        "- **Pdias**: Se verifica que no haya valores negativos.\n",
        "- **Campaña** y **Anterior**: Se considera tratar valores extremadamente altos.\n",
        "\n",
        "### Tratamiento de Valores Atípicos\n",
        "\n",
        "#### Pdias\n",
        "Se eliminan los valores negativos asegurando que todos los valores sean cero o mayores.\n"
      ]
    },
    {
      "cell_type": "code",
      "execution_count": 8,
      "metadata": {},
      "outputs": [
        {
          "name": "stdout",
          "output_type": "stream",
          "text": [
            "               Edad       Balance           Dia      Duracion      Campania  \\\n",
            "count  11162.000000  11162.000000  11162.000000  11162.000000  11162.000000   \n",
            "mean      41.231948   1528.538524     15.658036    352.948486      2.508421   \n",
            "std       11.913369   3225.413326      8.420740    284.714889      2.722077   \n",
            "min       18.000000  -6847.000000      1.000000      2.000000      1.000000   \n",
            "25%       32.000000    122.000000      8.000000    138.000000      1.000000   \n",
            "50%       39.000000    550.000000     15.000000    255.000000      2.000000   \n",
            "75%       49.000000   1708.000000     22.000000    496.000000      3.000000   \n",
            "max       95.000000  81204.000000     31.000000   1033.000000     63.000000   \n",
            "\n",
            "              Pdias      Anterior  \n",
            "count  11162.000000  11162.000000  \n",
            "mean      52.076151      0.485397  \n",
            "std      108.399706      0.892563  \n",
            "min        0.000000      0.000000  \n",
            "25%        0.000000      0.000000  \n",
            "50%        0.000000      0.000000  \n",
            "75%       20.750000      1.000000  \n",
            "max      854.000000      2.500000  \n",
            "\n",
            "Valores atípicos tratados\n"
          ]
        }
      ],
      "source": [
        "#  Pdias: Verificar rango válido (asumiendo que valores negativos no son válidos)\n",
        "df['Pdias'] = df['Pdias'].clip(lower=0)\n",
        "\n",
        "#Anterior: Tratamiento de valores atípicos  \n",
        "\"\"\"Se identifican y tratan los valores atípicos utilizando el método del rango intercuartílico (IQR). \n",
        "Este método ayuda a mantener los valores dentro de un rango razonable, reduciendo el impacto de valores extremos.\"\"\"\n",
        "\n",
        "Q1_anterior = df['Anterior'].quantile(0.25)\n",
        "Q3_anterior = df['Anterior'].quantile(0.75)\n",
        "IQR_anterior = Q3_anterior - Q1_anterior\n",
        "lower_bound_anterior = Q1_anterior - 1.5 * IQR_anterior\n",
        "upper_bound_anterior = Q3_anterior + 1.5 * IQR_anterior\n",
        "df['Anterior'] = df['Anterior'].clip(lower_bound_anterior, upper_bound_anterior)\n",
        "\n",
        "# Guardar y Verificar resultados\n",
        "\"\"\"Después de la limpieza, se guarda el DataFrame limpio y se verifican los resultados para asegurar que los valores atípicos han sido tratados adecuadamente\"\"\"\n",
        "\n",
        "print(df.describe())\n",
        "\n",
        "print(\"\\nValores atípicos tratados\")"
      ]
    },
    {
      "cell_type": "markdown",
      "metadata": {},
      "source": [
        "### Interpretación\n",
        "Este proceso garantiza que las columnas Campaña, Pdias, y Anterior contengan datos consistentes y realistas. Al eliminar valores negativos y ajustar valores atípicos, se mejora la calidad de los datos, lo que es crucial para obtener resultados precisos y significativos en el análisis de las campañas de marketing."
      ]
    },
    {
      "cell_type": "markdown",
      "metadata": {
        "id": "42mSaxnsQfHK"
      },
      "source": [
        "### Transformación de Variables"
      ]
    },
    {
      "cell_type": "markdown",
      "metadata": {},
      "source": [
        "Aquí se crea una nueva variable categórica 'Edad_Categoria' basada en la edad de los clientes.\n",
        "\n",
        "Propósito de la Transformación\n",
        "\n",
        "- Interpretación Fácil: Transformar Edad en categorías hace que los análisis y visualizaciones sean más fáciles de interpretar. Por ejemplo, es más sencillo analizar diferencias en comportamientos o respuestas de marketing entre grupos de edad categorizados que entre una amplia gama de edades individuales.\n",
        "- Mejora en Modelado: Algunos modelos de machine learning manejan mejor las variables categóricas que las numéricas continuas, especialmente cuando las relaciones no son lineales. Además, evita problemas de sesgo en modelos que asumen linealidad."
      ]
    },
    {
      "cell_type": "code",
      "execution_count": 9,
      "metadata": {
        "id": "8i8ARD3QQjat"
      },
      "outputs": [
        {
          "name": "stdout",
          "output_type": "stream",
          "text": [
            "\n",
            "Nueva variable 'Edad_Categoria' creada\n"
          ]
        }
      ],
      "source": [
        "# 4. Transformación de Variables \n",
        "df['Edad_Categoria'] = pd.cut(df['Edad'], bins=[0, 30, 50, 100], labels=['Joven', 'Adulto', 'Mayor'])\n",
        "print(\"\\nNueva variable 'Edad_Categoria' creada\")"
      ]
    },
    {
      "cell_type": "markdown",
      "metadata": {
        "id": "2-QHYgzBQkwG"
      },
      "source": [
        "### Visualizaciones"
      ]
    },
    {
      "cell_type": "markdown",
      "metadata": {},
      "source": [
        "Esta sección crea varias visualizaciones para entender mejor la distribución y relaciones en los datos."
      ]
    },
    {
      "cell_type": "markdown",
      "metadata": {},
      "source": [
        "### Histograma Mejorado de Edades con Anotaciones\n",
        "\n",
        "Esta visualización muestra la distribución de las edades junto con la curva de densidad. \n",
        " Las anotaciones indican la media y la mediana para proporcionar contexto adicional."
      ]
    },
    {
      "cell_type": "code",
      "execution_count": 10,
      "metadata": {},
      "outputs": [
        {
          "name": "stderr",
          "output_type": "stream",
          "text": [
            "c:\\Users\\semil\\anaconda3\\Lib\\site-packages\\seaborn\\_oldcore.py:1119: FutureWarning: use_inf_as_na option is deprecated and will be removed in a future version. Convert inf values to NaN before operating instead.\n",
            "  with pd.option_context('mode.use_inf_as_na', True):\n"
          ]
        },
        {
          "data": {
            "image/png": "[encoded data removed]",
            "text/plain": [
              "<Figure size 1000x600 with 1 Axes>"
            ]
          },
          "metadata": {},
          "output_type": "display_data"
        }
      ],
      "source": [
        "sns.set(style=\"whitegrid\")\n",
        "\n",
        "plt.figure(figsize=(10, 6))\n",
        "ax = sns.histplot(df['Edad'], kde=True, color='skyblue')\n",
        "mean_age = df['Edad'].mean()\n",
        "median_age = df['Edad'].median()\n",
        "plt.axvline(mean_age, color='r', linestyle='--', label=f'Media: {mean_age:.2f}')\n",
        "plt.axvline(median_age, color='g', linestyle='-', label=f'Mediana: {median_age:.2f}')\n",
        "plt.title('Distribución Mejorada de Edades')\n",
        "plt.legend()\n",
        "plt.show()"
      ]
    },
    {
      "cell_type": "markdown",
      "metadata": {},
      "source": [
        "## Descripción\n",
        "\n",
        "La gráfica muestra la distribución de las edades de los clientes en el dataset de una campaña de marketing bancario. La línea azul representa la densidad de la distribución, mientras que las barras indican el número de clientes en cada rango de edad.\n",
        "\n",
        "- **Barras de Color Azul:** Indican el conteo de clientes en cada rango de edad.\n",
        "- **Línea de Densidad Azul:** Representa la densidad de la distribución de edades, proporcionando una idea visual de cómo se distribuyen las edades.\n",
        "- **Línea Punteada Roja:** Indica la media (promedio) de las edades, que es 41.23 años.\n",
        "- **Línea Verde Sólida:** Indica la mediana de las edades, que es 39.00 años.\n",
        "\n",
        "## Elementos Clave\n",
        "\n",
        "### Observaciones\n",
        "\n",
        "- **Pico Principal:** La mayor concentración de clientes se encuentra alrededor de los 30 a 40 años.\n",
        "- **Distribución Asimétrica:** La distribución es sesgada hacia la derecha, lo que significa que hay más clientes jóvenes que mayores.\n",
        "- **Media y Mediana:** La media y la mediana están relativamente cerca, lo que indica una distribución razonablemente simétrica en torno a esos valores, aunque con un sesgo hacia edades más jóvenes.\n",
        "\n",
        "## Recomendaciones\n",
        "\n",
        "### Segmentación de Mercado\n",
        "\n",
        "- **Clientes Jóvenes:** Dado que la mayor parte de los clientes están en el rango de 30 a 40 años, las campañas de marketing pueden enfocarse más en este grupo etario.\n",
        "- **Clientes Mayores:** Considerar estrategias específicas para atraer a clientes mayores, quienes están menos representados en la distribución.\n",
        "\n",
        "### Ajuste de Productos\n",
        "\n",
        "- **Ofertas para Clientes Jóvenes:** Ofrecer productos y servicios que se adapten a las necesidades y preferencias de los clientes en el rango de edad predominante.\n",
        "- **Educación Financiera:** Proveer programas de educación financiera que puedan atraer tanto a los clientes jóvenes como a los mayores.\n",
        "\n",
        "### Investigación Adicional\n",
        "\n",
        "- **Análisis de Comportamiento:** Investigar por qué hay menos clientes en los extremos de la distribución (muy jóvenes y muy mayores) y ajustar las estrategias de marketing en consecuencia.\n"
      ]
    },
    {
      "cell_type": "markdown",
      "metadata": {},
      "source": [
        "### Boxplot de Balance y Depósito con Comparación por Educación\n",
        "Este gráfico compara los balances entre los diferentes estados de depósito, \n",
        "diferenciados adicionalmente por niveles de educación, ayudando a identificar patrones \n",
        "y diferencias en los grupos de educación dentro de los estados de depósito."
      ]
    },
    {
      "cell_type": "code",
      "execution_count": 11,
      "metadata": {},
      "outputs": [
        {
          "data": {
            "image/png": "[encoded data removed]",
            "text/plain": [
              "<Figure size 1200x600 with 1 Axes>"
            ]
          },
          "metadata": {},
          "output_type": "display_data"
        }
      ],
      "source": [
        "# Crear copias de las columnas con nombres en español\n",
        "df['Depósito'] = df['Deposito'].map({'yes': 'Sí', 'no': 'No'})\n",
        "df['Educación'] = df['Educacion'].map({\n",
        "    'unknown': 'Desconocido',\n",
        "    'primary': 'Primaria',\n",
        "    'secondary': 'Secundaria',\n",
        "    'tertiary': 'Terciaria'\n",
        "})\n",
        "df['Saldo'] = df['Balance']\n",
        "\n",
        "plt.figure(figsize=(12, 6))\n",
        "sns.boxplot(x='Depósito', y='Saldo', hue='Educación', data=df, palette='coolwarm', showfliers=False)\n",
        "plt.title('Relación entre Saldo, Depósito y Educación')\n",
        "plt.xlabel('Depósito')\n",
        "plt.ylabel('Saldo')\n",
        "plt.legend(title='Educación')\n",
        "plt.show()\n"
      ]
    },
    {
      "cell_type": "markdown",
      "metadata": {},
      "source": [
        "### Interpretación de la Gráfica\n",
        "\n",
        "La gráfica muestra la relación entre el balance (es decir, la cantidad de dinero que tienen en sus cuentas bancarias), el nivel de educación, y si han aceptado o no hacer un depósito. La gráfica está dividida en cuatro grupos basados en el nivel de educación: secundaria, terciaria, primaria y desconocido. Además, cada grupo está subdividido en dos categorías: \"Sí\" y \"No\", que indican si la persona ha hecho un depósito o no.\n",
        "\n",
        "#### Observaciones Clave:\n",
        "\n",
        "1. **Niveles Educativos:**\n",
        "   - Los niveles educativos se representan con diferentes colores:\n",
        "     - **Secundaria** (verde)\n",
        "     - **Terciaria** (naranja)\n",
        "     - **Primaria** (azul)\n",
        "     - **Desconocido** (rosa)\n",
        "\n",
        "2. **Distribución del Balance:**\n",
        "   - La altura de cada caja en la gráfica muestra la distribución del balance dentro de cada grupo. La línea en el centro de cada caja representa la mediana (el valor medio).\n",
        "   - Las \"cajas\" muestran cómo se distribuyen los balances para cada grupo de educación. Los extremos de las cajas muestran dónde se encuentran la mayoría de los balances (del 25% al 75%).\n",
        "   - Los \"bigotes\" (líneas que se extienden desde las cajas) indican el rango de balances más comunes. Los puntos fuera de estas líneas son valores atípicos, pero en este caso hemos limitado el gráfico para excluir los valores atípicos extremos.\n",
        "\n",
        "3. **Comparación entre Educación y Balance:**\n",
        "   - **Educación Terciaria (naranja):** Las personas con educación terciaria tienden a tener balances más altos en comparación con los otros niveles educativos, tanto si han hecho un depósito como si no.\n",
        "   - **Educación Secundaria (verde) y Primaria (azul):** Estas personas tienen balances más bajos en comparación con las personas con educación terciaria.\n",
        "   - **Educación Desconocida (rosa):** Tienen balances comparativamente bajos.\n",
        "\n",
        "4. **Impacto del Depósito:**\n",
        "   - No hay una gran diferencia visible en los balances entre aquellos que han hecho un depósito (\"Sí\") y los que no (\"No\") dentro del mismo nivel educativo.\n",
        "\n",
        "#### Conclusión\n",
        "\n",
        "En resumen, la gráfica sugiere que las personas con educación terciaria tienden a tener balances más altos en sus cuentas bancarias. El nivel educativo parece tener una mayor influencia en el balance que la decisión de hacer un depósito o no.\n"
      ]
    },
    {
      "cell_type": "markdown",
      "metadata": {},
      "source": [
        "### Proporción de Depósitos por Trabajo\n",
        "\n",
        "En lugar de mostrar recuentos absolutos, este gráfico de barras muestra la proporción de depósitos\n",
        "por tipo de trabajo, facilitando la comparación entre categorías de trabajo con diferentes tamaños de grupo.\n"
      ]
    },
    {
      "cell_type": "code",
      "execution_count": 12,
      "metadata": {},
      "outputs": [
        {
          "data": {
            "text/plain": [
              "<Figure size 1400x700 with 0 Axes>"
            ]
          },
          "metadata": {},
          "output_type": "display_data"
        },
        {
          "data": {
            "image/png": "[encoded data removed]",
            "text/plain": [
              "<Figure size 640x480 with 1 Axes>"
            ]
          },
          "metadata": {},
          "output_type": "display_data"
        }
      ],
      "source": [
        "# Mapeo de valores en inglés a español\n",
        "trabajo_map = {\n",
        "    'admin.': 'Administrativo',\n",
        "    'blue-collar': 'Obrero',\n",
        "    'entrepreneur': 'Emprendedor',\n",
        "    'housemaid': 'Ama de casa',\n",
        "    'management': 'Gerencia',\n",
        "    'retired': 'Jubilado',\n",
        "    'self-employed': 'Autónomo',\n",
        "    'services': 'Servicios',\n",
        "    'student': 'Estudiante',\n",
        "    'technician': 'Técnico',\n",
        "    'unemployed': 'Desempleado',\n",
        "    'unknown': 'Desconocido'\n",
        "}\n",
        "\n",
        "deposito_map = {'yes': 'Sí', 'no': 'No'}\n",
        "\n",
        "# Crear copias de las columnas con nombres en español\n",
        "df['Trabajo_es'] = df['Trabajo'].map(trabajo_map)\n",
        "df['Deposito_es'] = df['Deposito'].map(deposito_map)\n",
        "\n",
        "plt.figure(figsize=(14, 7))\n",
        "prop_df = (df.groupby(['Trabajo_es', 'Deposito_es'])['Deposito_es']\n",
        "           .count().unstack('Deposito_es').fillna(0).apply(lambda x: x / x.sum(), axis=1))\n",
        "prop_df.plot(kind='bar', stacked=True, color=['steelblue', 'lightcoral'])\n",
        "plt.title('Proporción de Depósitos por Tipo de Trabajo')\n",
        "plt.xlabel('Trabajo')\n",
        "plt.ylabel('Proporción')\n",
        "plt.xticks(rotation=45, ha='right')\n",
        "plt.legend(title='Depósito')\n",
        "plt.tight_layout()\n",
        "plt.show()"
      ]
    },
    {
      "cell_type": "markdown",
      "metadata": {},
      "source": [
        "### Interpretación \n",
        "\n",
        "El gráfico de barras muestra la proporción de depósitos realizados por personas en diferentes tipos de trabajo. En lugar de mostrar recuentos absolutos, el gráfico presenta la proporción de depósitos dentro de cada categoría de trabajo. Esto facilita la comparación entre categorías de trabajo con diferentes tamaños de grupo.\n",
        "\n",
        "#### Observaciones Clave:\n",
        "\n",
        "1. **Proporción de Depósitos:**\n",
        "   - Cada barra en el gráfico representa un tipo de trabajo.\n",
        "   - Las barras están divididas en dos segmentos: uno para aquellos que hicieron un depósito (color azul acero) y otro para aquellos que no lo hicieron (color coral claro).\n",
        "   - La altura de cada segmento dentro de una barra muestra la proporción de personas en esa categoría de trabajo que hicieron o no un depósito.\n",
        "\n",
        "2. **Comparación entre Trabajos:**\n",
        "   - Algunas profesiones tienen una mayor proporción de personas que hicieron un depósito en comparación con otras.\n",
        "   - Por ejemplo, si los segmentos azules son más grandes en algunas barras, esto indica que una mayor proporción de personas en ese trabajo hicieron un depósito.\n",
        "\n",
        "#### Recomendaciones:\n",
        "\n",
        "1. **Identificar Oportunidades de Marketing:**\n",
        "   - Se podrían diseñar campañas de marketing dirigidas específicamente a las profesiones con una menor proporción de depósitos (barras donde el segmento coral claro es más grande).\n",
        "   - Analizar por qué ciertas profesiones tienen una mayor proporción de depósitos puede ofrecer ideas sobre qué estrategias son efectivas y podrían aplicarse a otras categorías.\n",
        "\n",
        "2. **Segmentación de Clientes:**\n",
        "   - Esta información puede ser útil para segmentar a los clientes y personalizar las ofertas. Por ejemplo, ofrecer incentivos especiales para aquellas profesiones con baja proporción de depósitos.\n",
        "\n",
        "3. **Evaluar Eficiencia de Estrategias Actuales:**\n",
        "   - Verificar si las estrategias de marketing actuales están funcionando mejor para ciertas categorías de trabajo y ajustar las estrategias para otras categorías en consecuencia.\n",
        "\n",
        "#### Conclusión\n",
        "\n",
        "En resumen, este gráfico permite identificar y comparar la proporción de depósitos realizados por personas en diferentes tipos de trabajo. Es una herramienta útil para entender el comportamiento de los clientes según su ocupación y puede guiar la creación de estrategias de marketing más efectivas y personalizadas.\n"
      ]
    },
    {
      "cell_type": "markdown",
      "metadata": {
        "id": "wU73yXwpQqYO"
      },
      "source": [
        "## Correlaciones y Analisis Estadístico Básico"
      ]
    },
    {
      "cell_type": "markdown",
      "metadata": {},
      "source": [
        "Aquí se calcula y visualiza la matriz de correlación para las variables numéricas."
      ]
    },
    {
      "cell_type": "markdown",
      "metadata": {},
      "source": [
        "**Matriz de Correlación entre Variables Numéricas**\n",
        "\n",
        "Este heatmap muestra la correlación entre las variables numéricas del dataset,\n",
        "identificando posibles relaciones que pueden ser importantes para un análisis más detallado."
      ]
    },
    {
      "cell_type": "code",
      "execution_count": 18,
      "metadata": {
        "id": "GvdDmoj_QwLh"
      },
      "outputs": [
        {
          "data": {
            "application/vnd.plotly.v1+json": {
              "config": {
                "plotlyServerURL": "https://plot.ly"
              },
              "data": [
                {
                  "colorbar": {
                    "title": {
                      "text": "Correlación"
                    }
                  },
                  "colorscale": [
                    [
                      0,
                      "rgb(103,0,31)"
                    ],
                    [
                      0.1,
                      "rgb(178,24,43)"
                    ],
                    [
                      0.2,
                      "rgb(214,96,77)"
                    ],
                    [
                      0.3,
                      "rgb(244,165,130)"
                    ],
                    [
                      0.4,
                      "rgb(253,219,199)"
                    ],
                    [
                      0.5,
                      "rgb(247,247,247)"
                    ],
                    [
                      0.6,
                      "rgb(209,229,240)"
                    ],
                    [
                      0.7,
                      "rgb(146,197,222)"
                    ],
                    [
                      0.8,
                      "rgb(67,147,195)"
                    ],
                    [
                      0.9,
                      "rgb(33,102,172)"
                    ],
                    [
                      1,
                      "rgb(5,48,97)"
                    ]
                  ],
                  "hoverongaps": false,
                  "type": "heatmap",
                  "x": [
                    "Edad",
                    "Balance",
                    "Dia",
                    "Duracion",
                    "Campania",
                    "Pdias",
                    "Anterior",
                    "Saldo"
                  ],
                  "y": [
                    "Edad",
                    "Balance",
                    "Dia",
                    "Duracion",
                    "Campania",
                    "Pdias",
                    "Anterior",
                    "Saldo"
                  ],
                  "z": [
                    [
                      1,
                      0.11229988859873198,
                      -0.0007624209205460853,
                      0.0008116134454322287,
                      -0.005277936156040662,
                      0.002674171255508342,
                      0.03419123935445295,
                      0.11229988859873198
                    ],
                    [
                      0.11229988859873198,
                      1,
                      0.010467439549070373,
                      0.024911268402956013,
                      -0.013893822542985709,
                      0.017283522921666853,
                      0.04505822582391279,
                      1
                    ],
                    [
                      -0.0007624209205460853,
                      0.010467439549070373,
                      1,
                      -0.02537791291231356,
                      0.13700683429735644,
                      -0.07715487675951721,
                      -0.07951503214443721,
                      0.010467439549070376
                    ],
                    [
                      0.0008116134454322287,
                      0.024911268402956013,
                      -0.02537791291231356,
                      1,
                      -0.055028008404597824,
                      -0.01936589549655911,
                      -0.031184781360760746,
                      0.024911268402956006
                    ],
                    [
                      -0.005277936156040662,
                      -0.013893822542985709,
                      0.13700683429735644,
                      -0.055028008404597824,
                      1,
                      -0.10253814801243366,
                      -0.11150281463827107,
                      -0.013893822542985698
                    ],
                    [
                      0.002674171255508342,
                      0.017283522921666853,
                      -0.07715487675951721,
                      -0.01936589549655911,
                      -0.10253814801243366,
                      1,
                      0.7440348939831624,
                      0.01728352292166686
                    ],
                    [
                      0.03419123935445295,
                      0.04505822582391279,
                      -0.07951503214443721,
                      -0.031184781360760746,
                      -0.11150281463827107,
                      0.7440348939831624,
                      1,
                      0.045058225823912786
                    ],
                    [
                      0.11229988859873198,
                      1,
                      0.010467439549070376,
                      0.024911268402956006,
                      -0.013893822542985698,
                      0.01728352292166686,
                      0.045058225823912786,
                      1
                    ]
                  ],
                  "zmax": 1,
                  "zmin": -1
                }
              ],
              "layout": {
                "annotations": [
                  {
                    "font": {
                      "color": "white"
                    },
                    "showarrow": false,
                    "text": "1.00",
                    "x": "Edad",
                    "y": "Edad"
                  },
                  {
                    "font": {
                      "color": "black"
                    },
                    "showarrow": false,
                    "text": "0.11",
                    "x": "Balance",
                    "y": "Edad"
                  },
                  {
                    "font": {
                      "color": "black"
                    },
                    "showarrow": false,
                    "text": "-0.00",
                    "x": "Dia",
                    "y": "Edad"
                  },
                  {
                    "font": {
                      "color": "black"
                    },
                    "showarrow": false,
                    "text": "0.00",
                    "x": "Duracion",
                    "y": "Edad"
                  },
                  {
                    "font": {
                      "color": "black"
                    },
                    "showarrow": false,
                    "text": "-0.01",
                    "x": "Campania",
                    "y": "Edad"
                  },
                  {
                    "font": {
                      "color": "black"
                    },
                    "showarrow": false,
                    "text": "0.00",
                    "x": "Pdias",
                    "y": "Edad"
                  },
                  {
                    "font": {
                      "color": "black"
                    },
                    "showarrow": false,
                    "text": "0.03",
                    "x": "Anterior",
                    "y": "Edad"
                  },
                  {
                    "font": {
                      "color": "black"
                    },
                    "showarrow": false,
                    "text": "0.11",
                    "x": "Saldo",
                    "y": "Edad"
                  },
                  {
                    "font": {
                      "color": "black"
                    },
                    "showarrow": false,
                    "text": "0.11",
                    "x": "Edad",
                    "y": "Balance"
                  },
                  {
                    "font": {
                      "color": "white"
                    },
                    "showarrow": false,
                    "text": "1.00",
                    "x": "Balance",
                    "y": "Balance"
                  },
                  {
                    "font": {
                      "color": "black"
                    },
                    "showarrow": false,
                    "text": "0.01",
                    "x": "Dia",
                    "y": "Balance"
                  },
                  {
                    "font": {
                      "color": "black"
                    },
                    "showarrow": false,
                    "text": "0.02",
                    "x": "Duracion",
                    "y": "Balance"
                  },
                  {
                    "font": {
                      "color": "black"
                    },
                    "showarrow": false,
                    "text": "-0.01",
                    "x": "Campania",
                    "y": "Balance"
                  },
                  {
                    "font": {
                      "color": "black"
                    },
                    "showarrow": false,
                    "text": "0.02",
                    "x": "Pdias",
                    "y": "Balance"
                  },
                  {
                    "font": {
                      "color": "black"
                    },
                    "showarrow": false,
                    "text": "0.05",
                    "x": "Anterior",
                    "y": "Balance"
                  },
                  {
                    "font": {
                      "color": "white"
                    },
                    "showarrow": false,
                    "text": "1.00",
                    "x": "Saldo",
                    "y": "Balance"
                  },
                  {
                    "font": {
                      "color": "black"
                    },
                    "showarrow": false,
                    "text": "-0.00",
                    "x": "Edad",
                    "y": "Dia"
                  },
                  {
                    "font": {
                      "color": "black"
                    },
                    "showarrow": false,
                    "text": "0.01",
                    "x": "Balance",
                    "y": "Dia"
                  },
                  {
                    "font": {
                      "color": "white"
                    },
                    "showarrow": false,
                    "text": "1.00",
                    "x": "Dia",
                    "y": "Dia"
                  },
                  {
                    "font": {
                      "color": "black"
                    },
                    "showarrow": false,
                    "text": "-0.03",
                    "x": "Duracion",
                    "y": "Dia"
                  },
                  {
                    "font": {
                      "color": "black"
                    },
                    "showarrow": false,
                    "text": "0.14",
                    "x": "Campania",
                    "y": "Dia"
                  },
                  {
                    "font": {
                      "color": "black"
                    },
                    "showarrow": false,
                    "text": "-0.08",
                    "x": "Pdias",
                    "y": "Dia"
                  },
                  {
                    "font": {
                      "color": "black"
                    },
                    "showarrow": false,
                    "text": "-0.08",
                    "x": "Anterior",
                    "y": "Dia"
                  },
                  {
                    "font": {
                      "color": "black"
                    },
                    "showarrow": false,
                    "text": "0.01",
                    "x": "Saldo",
                    "y": "Dia"
                  },
                  {
                    "font": {
                      "color": "black"
                    },
                    "showarrow": false,
                    "text": "0.00",
                    "x": "Edad",
                    "y": "Duracion"
                  },
                  {
                    "font": {
                      "color": "black"
                    },
                    "showarrow": false,
                    "text": "0.02",
                    "x": "Balance",
                    "y": "Duracion"
                  },
                  {
                    "font": {
                      "color": "black"
                    },
                    "showarrow": false,
                    "text": "-0.03",
                    "x": "Dia",
                    "y": "Duracion"
                  },
                  {
                    "font": {
                      "color": "white"
                    },
                    "showarrow": false,
                    "text": "1.00",
                    "x": "Duracion",
                    "y": "Duracion"
                  },
                  {
                    "font": {
                      "color": "black"
                    },
                    "showarrow": false,
                    "text": "-0.06",
                    "x": "Campania",
                    "y": "Duracion"
                  },
                  {
                    "font": {
                      "color": "black"
                    },
                    "showarrow": false,
                    "text": "-0.02",
                    "x": "Pdias",
                    "y": "Duracion"
                  },
                  {
                    "font": {
                      "color": "black"
                    },
                    "showarrow": false,
                    "text": "-0.03",
                    "x": "Anterior",
                    "y": "Duracion"
                  },
                  {
                    "font": {
                      "color": "black"
                    },
                    "showarrow": false,
                    "text": "0.02",
                    "x": "Saldo",
                    "y": "Duracion"
                  },
                  {
                    "font": {
                      "color": "black"
                    },
                    "showarrow": false,
                    "text": "-0.01",
                    "x": "Edad",
                    "y": "Campania"
                  },
                  {
                    "font": {
                      "color": "black"
                    },
                    "showarrow": false,
                    "text": "-0.01",
                    "x": "Balance",
                    "y": "Campania"
                  },
                  {
                    "font": {
                      "color": "black"
                    },
                    "showarrow": false,
                    "text": "0.14",
                    "x": "Dia",
                    "y": "Campania"
                  },
                  {
                    "font": {
                      "color": "black"
                    },
                    "showarrow": false,
                    "text": "-0.06",
                    "x": "Duracion",
                    "y": "Campania"
                  },
                  {
                    "font": {
                      "color": "white"
                    },
                    "showarrow": false,
                    "text": "1.00",
                    "x": "Campania",
                    "y": "Campania"
                  },
                  {
                    "font": {
                      "color": "black"
                    },
                    "showarrow": false,
                    "text": "-0.10",
                    "x": "Pdias",
                    "y": "Campania"
                  },
                  {
                    "font": {
                      "color": "black"
                    },
                    "showarrow": false,
                    "text": "-0.11",
                    "x": "Anterior",
                    "y": "Campania"
                  },
                  {
                    "font": {
                      "color": "black"
                    },
                    "showarrow": false,
                    "text": "-0.01",
                    "x": "Saldo",
                    "y": "Campania"
                  },
                  {
                    "font": {
                      "color": "black"
                    },
                    "showarrow": false,
                    "text": "0.00",
                    "x": "Edad",
                    "y": "Pdias"
                  },
                  {
                    "font": {
                      "color": "black"
                    },
                    "showarrow": false,
                    "text": "0.02",
                    "x": "Balance",
                    "y": "Pdias"
                  },
                  {
                    "font": {
                      "color": "black"
                    },
                    "showarrow": false,
                    "text": "-0.08",
                    "x": "Dia",
                    "y": "Pdias"
                  },
                  {
                    "font": {
                      "color": "black"
                    },
                    "showarrow": false,
                    "text": "-0.02",
                    "x": "Duracion",
                    "y": "Pdias"
                  },
                  {
                    "font": {
                      "color": "black"
                    },
                    "showarrow": false,
                    "text": "-0.10",
                    "x": "Campania",
                    "y": "Pdias"
                  },
                  {
                    "font": {
                      "color": "white"
                    },
                    "showarrow": false,
                    "text": "1.00",
                    "x": "Pdias",
                    "y": "Pdias"
                  },
                  {
                    "font": {
                      "color": "white"
                    },
                    "showarrow": false,
                    "text": "0.74",
                    "x": "Anterior",
                    "y": "Pdias"
                  },
                  {
                    "font": {
                      "color": "black"
                    },
                    "showarrow": false,
                    "text": "0.02",
                    "x": "Saldo",
                    "y": "Pdias"
                  },
                  {
                    "font": {
                      "color": "black"
                    },
                    "showarrow": false,
                    "text": "0.03",
                    "x": "Edad",
                    "y": "Anterior"
                  },
                  {
                    "font": {
                      "color": "black"
                    },
                    "showarrow": false,
                    "text": "0.05",
                    "x": "Balance",
                    "y": "Anterior"
                  },
                  {
                    "font": {
                      "color": "black"
                    },
                    "showarrow": false,
                    "text": "-0.08",
                    "x": "Dia",
                    "y": "Anterior"
                  },
                  {
                    "font": {
                      "color": "black"
                    },
                    "showarrow": false,
                    "text": "-0.03",
                    "x": "Duracion",
                    "y": "Anterior"
                  },
                  {
                    "font": {
                      "color": "black"
                    },
                    "showarrow": false,
                    "text": "-0.11",
                    "x": "Campania",
                    "y": "Anterior"
                  },
                  {
                    "font": {
                      "color": "white"
                    },
                    "showarrow": false,
                    "text": "0.74",
                    "x": "Pdias",
                    "y": "Anterior"
                  },
                  {
                    "font": {
                      "color": "white"
                    },
                    "showarrow": false,
                    "text": "1.00",
                    "x": "Anterior",
                    "y": "Anterior"
                  },
                  {
                    "font": {
                      "color": "black"
                    },
                    "showarrow": false,
                    "text": "0.05",
                    "x": "Saldo",
                    "y": "Anterior"
                  },
                  {
                    "font": {
                      "color": "black"
                    },
                    "showarrow": false,
                    "text": "0.11",
                    "x": "Edad",
                    "y": "Saldo"
                  },
                  {
                    "font": {
                      "color": "white"
                    },
                    "showarrow": false,
                    "text": "1.00",
                    "x": "Balance",
                    "y": "Saldo"
                  },
                  {
                    "font": {
                      "color": "black"
                    },
                    "showarrow": false,
                    "text": "0.01",
                    "x": "Dia",
                    "y": "Saldo"
                  },
                  {
                    "font": {
                      "color": "black"
                    },
                    "showarrow": false,
                    "text": "0.02",
                    "x": "Duracion",
                    "y": "Saldo"
                  },
                  {
                    "font": {
                      "color": "black"
                    },
                    "showarrow": false,
                    "text": "-0.01",
                    "x": "Campania",
                    "y": "Saldo"
                  },
                  {
                    "font": {
                      "color": "black"
                    },
                    "showarrow": false,
                    "text": "0.02",
                    "x": "Pdias",
                    "y": "Saldo"
                  },
                  {
                    "font": {
                      "color": "black"
                    },
                    "showarrow": false,
                    "text": "0.05",
                    "x": "Anterior",
                    "y": "Saldo"
                  },
                  {
                    "font": {
                      "color": "white"
                    },
                    "showarrow": false,
                    "text": "1.00",
                    "x": "Saldo",
                    "y": "Saldo"
                  }
                ],
                "height": 700,
                "template": {
                  "data": {
                    "bar": [
                      {
                        "error_x": {
                          "color": "#2a3f5f"
                        },
                        "error_y": {
                          "color": "#2a3f5f"
                        },
                        "marker": {
                          "line": {
                            "color": "#E5ECF6",
                            "width": 0.5
                          },
                          "pattern": {
                            "fillmode": "overlay",
                            "size": 10,
                            "solidity": 0.2
                          }
                        },
                        "type": "bar"
                      }
                    ],
                    "barpolar": [
                      {
                        "marker": {
                          "line": {
                            "color": "#E5ECF6",
                            "width": 0.5
                          },
                          "pattern": {
                            "fillmode": "overlay",
                            "size": 10,
                            "solidity": 0.2
                          }
                        },
                        "type": "barpolar"
                      }
                    ],
                    "carpet": [
                      {
                        "aaxis": {
                          "endlinecolor": "#2a3f5f",
                          "gridcolor": "white",
                          "linecolor": "white",
                          "minorgridcolor": "white",
                          "startlinecolor": "#2a3f5f"
                        },
                        "baxis": {
                          "endlinecolor": "#2a3f5f",
                          "gridcolor": "white",
                          "linecolor": "white",
                          "minorgridcolor": "white",
                          "startlinecolor": "#2a3f5f"
                        },
                        "type": "carpet"
                      }
                    ],
                    "choropleth": [
                      {
                        "colorbar": {
                          "outlinewidth": 0,
                          "ticks": ""
                        },
                        "type": "choropleth"
                      }
                    ],
                    "contour": [
                      {
                        "colorbar": {
                          "outlinewidth": 0,
                          "ticks": ""
                        },
                        "colorscale": [
                          [
                            0,
                            "#0d0887"
                          ],
                          [
                            0.1111111111111111,
                            "#46039f"
                          ],
                          [
                            0.2222222222222222,
                            "#7201a8"
                          ],
                          [
                            0.3333333333333333,
                            "#9c179e"
                          ],
                          [
                            0.4444444444444444,
                            "#bd3786"
                          ],
                          [
                            0.5555555555555556,
                            "#d8576b"
                          ],
                          [
                            0.6666666666666666,
                            "#ed7953"
                          ],
                          [
                            0.7777777777777778,
                            "#fb9f3a"
                          ],
                          [
                            0.8888888888888888,
                            "#fdca26"
                          ],
                          [
                            1,
                            "#f0f921"
                          ]
                        ],
                        "type": "contour"
                      }
                    ],
                    "contourcarpet": [
                      {
                        "colorbar": {
                          "outlinewidth": 0,
                          "ticks": ""
                        },
                        "type": "contourcarpet"
                      }
                    ],
                    "heatmap": [
                      {
                        "colorbar": {
                          "outlinewidth": 0,
                          "ticks": ""
                        },
                        "colorscale": [
                          [
                            0,
                            "#0d0887"
                          ],
                          [
                            0.1111111111111111,
                            "#46039f"
                          ],
                          [
                            0.2222222222222222,
                            "#7201a8"
                          ],
                          [
                            0.3333333333333333,
                            "#9c179e"
                          ],
                          [
                            0.4444444444444444,
                            "#bd3786"
                          ],
                          [
                            0.5555555555555556,
                            "#d8576b"
                          ],
                          [
                            0.6666666666666666,
                            "#ed7953"
                          ],
                          [
                            0.7777777777777778,
                            "#fb9f3a"
                          ],
                          [
                            0.8888888888888888,
                            "#fdca26"
                          ],
                          [
                            1,
                            "#f0f921"
                          ]
                        ],
                        "type": "heatmap"
                      }
                    ],
                    "heatmapgl": [
                      {
                        "colorbar": {
                          "outlinewidth": 0,
                          "ticks": ""
                        },
                        "colorscale": [
                          [
                            0,
                            "#0d0887"
                          ],
                          [
                            0.1111111111111111,
                            "#46039f"
                          ],
                          [
                            0.2222222222222222,
                            "#7201a8"
                          ],
                          [
                            0.3333333333333333,
                            "#9c179e"
                          ],
                          [
                            0.4444444444444444,
                            "#bd3786"
                          ],
                          [
                            0.5555555555555556,
                            "#d8576b"
                          ],
                          [
                            0.6666666666666666,
                            "#ed7953"
                          ],
                          [
                            0.7777777777777778,
                            "#fb9f3a"
                          ],
                          [
                            0.8888888888888888,
                            "#fdca26"
                          ],
                          [
                            1,
                            "#f0f921"
                          ]
                        ],
                        "type": "heatmapgl"
                      }
                    ],
                    "histogram": [
                      {
                        "marker": {
                          "pattern": {
                            "fillmode": "overlay",
                            "size": 10,
                            "solidity": 0.2
                          }
                        },
                        "type": "histogram"
                      }
                    ],
                    "histogram2d": [
                      {
                        "colorbar": {
                          "outlinewidth": 0,
                          "ticks": ""
                        },
                        "colorscale": [
                          [
                            0,
                            "#0d0887"
                          ],
                          [
                            0.1111111111111111,
                            "#46039f"
                          ],
                          [
                            0.2222222222222222,
                            "#7201a8"
                          ],
                          [
                            0.3333333333333333,
                            "#9c179e"
                          ],
                          [
                            0.4444444444444444,
                            "#bd3786"
                          ],
                          [
                            0.5555555555555556,
                            "#d8576b"
                          ],
                          [
                            0.6666666666666666,
                            "#ed7953"
                          ],
                          [
                            0.7777777777777778,
                            "#fb9f3a"
                          ],
                          [
                            0.8888888888888888,
                            "#fdca26"
                          ],
                          [
                            1,
                            "#f0f921"
                          ]
                        ],
                        "type": "histogram2d"
                      }
                    ],
                    "histogram2dcontour": [
                      {
                        "colorbar": {
                          "outlinewidth": 0,
                          "ticks": ""
                        },
                        "colorscale": [
                          [
                            0,
                            "#0d0887"
                          ],
                          [
                            0.1111111111111111,
                            "#46039f"
                          ],
                          [
                            0.2222222222222222,
                            "#7201a8"
                          ],
                          [
                            0.3333333333333333,
                            "#9c179e"
                          ],
                          [
                            0.4444444444444444,
                            "#bd3786"
                          ],
                          [
                            0.5555555555555556,
                            "#d8576b"
                          ],
                          [
                            0.6666666666666666,
                            "#ed7953"
                          ],
                          [
                            0.7777777777777778,
                            "#fb9f3a"
                          ],
                          [
                            0.8888888888888888,
                            "#fdca26"
                          ],
                          [
                            1,
                            "#f0f921"
                          ]
                        ],
                        "type": "histogram2dcontour"
                      }
                    ],
                    "mesh3d": [
                      {
                        "colorbar": {
                          "outlinewidth": 0,
                          "ticks": ""
                        },
                        "type": "mesh3d"
                      }
                    ],
                    "parcoords": [
                      {
                        "line": {
                          "colorbar": {
                            "outlinewidth": 0,
                            "ticks": ""
                          }
                        },
                        "type": "parcoords"
                      }
                    ],
                    "pie": [
                      {
                        "automargin": true,
                        "type": "pie"
                      }
                    ],
                    "scatter": [
                      {
                        "fillpattern": {
                          "fillmode": "overlay",
                          "size": 10,
                          "solidity": 0.2
                        },
                        "type": "scatter"
                      }
                    ],
                    "scatter3d": [
                      {
                        "line": {
                          "colorbar": {
                            "outlinewidth": 0,
                            "ticks": ""
                          }
                        },
                        "marker": {
                          "colorbar": {
                            "outlinewidth": 0,
                            "ticks": ""
                          }
                        },
                        "type": "scatter3d"
                      }
                    ],
                    "scattercarpet": [
                      {
                        "marker": {
                          "colorbar": {
                            "outlinewidth": 0,
                            "ticks": ""
                          }
                        },
                        "type": "scattercarpet"
                      }
                    ],
                    "scattergeo": [
                      {
                        "marker": {
                          "colorbar": {
                            "outlinewidth": 0,
                            "ticks": ""
                          }
                        },
                        "type": "scattergeo"
                      }
                    ],
                    "scattergl": [
                      {
                        "marker": {
                          "colorbar": {
                            "outlinewidth": 0,
                            "ticks": ""
                          }
                        },
                        "type": "scattergl"
                      }
                    ],
                    "scattermapbox": [
                      {
                        "marker": {
                          "colorbar": {
                            "outlinewidth": 0,
                            "ticks": ""
                          }
                        },
                        "type": "scattermapbox"
                      }
                    ],
                    "scatterpolar": [
                      {
                        "marker": {
                          "colorbar": {
                            "outlinewidth": 0,
                            "ticks": ""
                          }
                        },
                        "type": "scatterpolar"
                      }
                    ],
                    "scatterpolargl": [
                      {
                        "marker": {
                          "colorbar": {
                            "outlinewidth": 0,
                            "ticks": ""
                          }
                        },
                        "type": "scatterpolargl"
                      }
                    ],
                    "scatterternary": [
                      {
                        "marker": {
                          "colorbar": {
                            "outlinewidth": 0,
                            "ticks": ""
                          }
                        },
                        "type": "scatterternary"
                      }
                    ],
                    "surface": [
                      {
                        "colorbar": {
                          "outlinewidth": 0,
                          "ticks": ""
                        },
                        "colorscale": [
                          [
                            0,
                            "#0d0887"
                          ],
                          [
                            0.1111111111111111,
                            "#46039f"
                          ],
                          [
                            0.2222222222222222,
                            "#7201a8"
                          ],
                          [
                            0.3333333333333333,
                            "#9c179e"
                          ],
                          [
                            0.4444444444444444,
                            "#bd3786"
                          ],
                          [
                            0.5555555555555556,
                            "#d8576b"
                          ],
                          [
                            0.6666666666666666,
                            "#ed7953"
                          ],
                          [
                            0.7777777777777778,
                            "#fb9f3a"
                          ],
                          [
                            0.8888888888888888,
                            "#fdca26"
                          ],
                          [
                            1,
                            "#f0f921"
                          ]
                        ],
                        "type": "surface"
                      }
                    ],
                    "table": [
                      {
                        "cells": {
                          "fill": {
                            "color": "#EBF0F8"
                          },
                          "line": {
                            "color": "white"
                          }
                        },
                        "header": {
                          "fill": {
                            "color": "#C8D4E3"
                          },
                          "line": {
                            "color": "white"
                          }
                        },
                        "type": "table"
                      }
                    ]
                  },
                  "layout": {
                    "annotationdefaults": {
                      "arrowcolor": "#2a3f5f",
                      "arrowhead": 0,
                      "arrowwidth": 1
                    },
                    "autotypenumbers": "strict",
                    "coloraxis": {
                      "colorbar": {
                        "outlinewidth": 0,
                        "ticks": ""
                      }
                    },
                    "colorscale": {
                      "diverging": [
                        [
                          0,
                          "#8e0152"
                        ],
                        [
                          0.1,
                          "#c51b7d"
                        ],
                        [
                          0.2,
                          "#de77ae"
                        ],
                        [
                          0.3,
                          "#f1b6da"
                        ],
                        [
                          0.4,
                          "#fde0ef"
                        ],
                        [
                          0.5,
                          "#f7f7f7"
                        ],
                        [
                          0.6,
                          "#e6f5d0"
                        ],
                        [
                          0.7,
                          "#b8e186"
                        ],
                        [
                          0.8,
                          "#7fbc41"
                        ],
                        [
                          0.9,
                          "#4d9221"
                        ],
                        [
                          1,
                          "#276419"
                        ]
                      ],
                      "sequential": [
                        [
                          0,
                          "#0d0887"
                        ],
                        [
                          0.1111111111111111,
                          "#46039f"
                        ],
                        [
                          0.2222222222222222,
                          "#7201a8"
                        ],
                        [
                          0.3333333333333333,
                          "#9c179e"
                        ],
                        [
                          0.4444444444444444,
                          "#bd3786"
                        ],
                        [
                          0.5555555555555556,
                          "#d8576b"
                        ],
                        [
                          0.6666666666666666,
                          "#ed7953"
                        ],
                        [
                          0.7777777777777778,
                          "#fb9f3a"
                        ],
                        [
                          0.8888888888888888,
                          "#fdca26"
                        ],
                        [
                          1,
                          "#f0f921"
                        ]
                      ],
                      "sequentialminus": [
                        [
                          0,
                          "#0d0887"
                        ],
                        [
                          0.1111111111111111,
                          "#46039f"
                        ],
                        [
                          0.2222222222222222,
                          "#7201a8"
                        ],
                        [
                          0.3333333333333333,
                          "#9c179e"
                        ],
                        [
                          0.4444444444444444,
                          "#bd3786"
                        ],
                        [
                          0.5555555555555556,
                          "#d8576b"
                        ],
                        [
                          0.6666666666666666,
                          "#ed7953"
                        ],
                        [
                          0.7777777777777778,
                          "#fb9f3a"
                        ],
                        [
                          0.8888888888888888,
                          "#fdca26"
                        ],
                        [
                          1,
                          "#f0f921"
                        ]
                      ]
                    },
                    "colorway": [
                      "#636efa",
                      "#EF553B",
                      "#00cc96",
                      "#ab63fa",
                      "#FFA15A",
                      "#19d3f3",
                      "#FF6692",
                      "#B6E880",
                      "#FF97FF",
                      "#FECB52"
                    ],
                    "font": {
                      "color": "#2a3f5f"
                    },
                    "geo": {
                      "bgcolor": "white",
                      "lakecolor": "white",
                      "landcolor": "#E5ECF6",
                      "showlakes": true,
                      "showland": true,
                      "subunitcolor": "white"
                    },
                    "hoverlabel": {
                      "align": "left"
                    },
                    "hovermode": "closest",
                    "mapbox": {
                      "style": "light"
                    },
                    "paper_bgcolor": "white",
                    "plot_bgcolor": "#E5ECF6",
                    "polar": {
                      "angularaxis": {
                        "gridcolor": "white",
                        "linecolor": "white",
                        "ticks": ""
                      },
                      "bgcolor": "#E5ECF6",
                      "radialaxis": {
                        "gridcolor": "white",
                        "linecolor": "white",
                        "ticks": ""
                      }
                    },
                    "scene": {
                      "xaxis": {
                        "backgroundcolor": "#E5ECF6",
                        "gridcolor": "white",
                        "gridwidth": 2,
                        "linecolor": "white",
                        "showbackground": true,
                        "ticks": "",
                        "zerolinecolor": "white"
                      },
                      "yaxis": {
                        "backgroundcolor": "#E5ECF6",
                        "gridcolor": "white",
                        "gridwidth": 2,
                        "linecolor": "white",
                        "showbackground": true,
                        "ticks": "",
                        "zerolinecolor": "white"
                      },
                      "zaxis": {
                        "backgroundcolor": "#E5ECF6",
                        "gridcolor": "white",
                        "gridwidth": 2,
                        "linecolor": "white",
                        "showbackground": true,
                        "ticks": "",
                        "zerolinecolor": "white"
                      }
                    },
                    "shapedefaults": {
                      "line": {
                        "color": "#2a3f5f"
                      }
                    },
                    "ternary": {
                      "aaxis": {
                        "gridcolor": "white",
                        "linecolor": "white",
                        "ticks": ""
                      },
                      "baxis": {
                        "gridcolor": "white",
                        "linecolor": "white",
                        "ticks": ""
                      },
                      "bgcolor": "#E5ECF6",
                      "caxis": {
                        "gridcolor": "white",
                        "linecolor": "white",
                        "ticks": ""
                      }
                    },
                    "title": {
                      "x": 0.05
                    },
                    "xaxis": {
                      "automargin": true,
                      "gridcolor": "white",
                      "linecolor": "white",
                      "ticks": "",
                      "title": {
                        "standoff": 15
                      },
                      "zerolinecolor": "white",
                      "zerolinewidth": 2
                    },
                    "yaxis": {
                      "automargin": true,
                      "gridcolor": "white",
                      "linecolor": "white",
                      "ticks": "",
                      "title": {
                        "standoff": 15
                      },
                      "zerolinecolor": "white",
                      "zerolinewidth": 2
                    }
                  }
                },
                "title": {
                  "text": "Matriz de Correlación"
                },
                "width": 800,
                "xaxis": {
                  "title": {
                    "text": "Variables"
                  }
                },
                "yaxis": {
                  "title": {
                    "text": "Variables"
                  }
                }
              }
            }
          },
          "metadata": {},
          "output_type": "display_data"
        }
      ],
      "source": [
        "# 6. Correlaciones y Análisis Estadístico Básico (10 puntos)\n",
        "def analisis_estadistico(df):\n",
        "    # Seleccionar solo las columnas numéricas\n",
        "    df_num = df.select_dtypes(include=[np.number])\n",
        "    \n",
        "    # Calcular la matriz de correlación\n",
        "    corr_matrix = df_num.corr()\n",
        "\n",
        "    # Crear un mapa de calor interactivo con Plotly\n",
        "    fig = go.Figure(data=go.Heatmap(\n",
        "                    z=corr_matrix.values,\n",
        "                    x=corr_matrix.columns,\n",
        "                    y=corr_matrix.columns,\n",
        "                    zmin=-1, zmax=1,\n",
        "                    colorscale=px.colors.diverging.RdBu,\n",
        "                    colorbar=dict(title='Correlación'),\n",
        "                    hoverongaps = False))\n",
        "\n",
        "    # Añadir las anotaciones con los valores de correlación\n",
        "    annotations = []\n",
        "    for i, row in enumerate(corr_matrix.values):\n",
        "        for j, value in enumerate(row):\n",
        "            annotations.append(\n",
        "                dict(\n",
        "                    x=corr_matrix.columns[j],\n",
        "                    y=corr_matrix.index[i],\n",
        "                    text=f\"{value:.2f}\",\n",
        "                    showarrow=False,\n",
        "                    font=dict(color='white' if abs(value) > 0.5 else 'black')\n",
        "                )\n",
        "            )\n",
        "\n",
        "    fig.update_layout(\n",
        "        title='Matriz de Correlación',\n",
        "        xaxis_title='Variables',\n",
        "        yaxis_title='Variables',\n",
        "        annotations=annotations,\n",
        "        width=800,\n",
        "        height=700\n",
        "    )\n",
        "\n",
        "    fig.show()\n",
        "\n",
        "analisis_estadistico(df)"
      ]
    },
    {
      "cell_type": "markdown",
      "metadata": {},
      "source": [
        "## Observaciones Clave\n",
        "\n",
        "### Entender la Correlación:\n",
        "\n",
        "- La correlación mide la relación entre dos variables. Los valores de correlación varían entre -1 y 1.\n",
        "  - 1 indica una correlación positiva perfecta (cuando una variable aumenta, la otra también lo hace).\n",
        "  - -1 indica una correlación negativa perfecta (cuando una variable aumenta, la otra disminuye).\n",
        "  - 0 indica que no hay correlación (no hay relación lineal entre las variables).\n",
        "\n",
        "### Mapa de Calor:\n",
        "\n",
        "- Cada celda en el mapa de calor representa la correlación entre dos variables.\n",
        "- Los colores indican la magnitud y dirección de la correlación:\n",
        "  - Rojo oscuro indica una correlación negativa fuerte.\n",
        "  - Azul oscuro indica una correlación positiva fuerte.\n",
        "  - Colores más claros indican correlaciones más débiles.\n",
        "\n",
        "### Identificación de Relaciones:\n",
        "\n",
        "- Las áreas rojas indican relaciones negativas, donde si una variable aumenta, la otra disminuye.\n",
        "- Las áreas azules indican relaciones positivas, donde si una variable aumenta, la otra también lo hace.\n",
        "- Al observar la matriz, puedes identificar qué variables están más estrechamente relacionadas entre sí.\n",
        "\n",
        "## Recomendaciones\n",
        "\n",
        "### Análisis de Variables Relacionadas:\n",
        "\n",
        "- Identificar las variables que están fuertemente correlacionadas puede ayudar a simplificar los modelos al eliminar variables redundantes.\n",
        "- Si dos variables tienen una alta correlación positiva o negativa, es posible que una de ellas sea suficiente para la predicción, lo que puede reducir la complejidad del modelo.\n",
        "\n",
        "### Identificación de Factores Clave:\n",
        "\n",
        "- Las variables que muestran altas correlaciones con la variable objetivo (como ventas, ingresos, etc.) pueden ser factores clave que influyen en los resultados. Estas variables deben ser el foco principal en el análisis y modelado.\n",
        "\n",
        "### Prevención de Multicolinealidad:\n",
        "\n",
        "- En modelos estadísticos, la multicolinealidad (cuando dos o más variables independientes están altamente correlacionadas) puede ser un problema. Identificar y manejar estas correlaciones es importante para asegurar la estabilidad y precisión del modelo.\n",
        "\n",
        "### Exploración Adicional:\n",
        "\n",
        "- Para las variables con correlaciones inesperadas o inusualmente altas, es recomendable realizar un análisis más detallado para entender la causa subyacente de estas relaciones.\n",
        "\n",
        "## Conclusión\n",
        "\n",
        "La matriz de correlación es una herramienta visual poderosa que ayuda a entender las relaciones entre múltiples variables. Usarla de manera efectiva puede mejorar la interpretación de los datos y guiar en la construcción de modelos más precisos y eficientes.\n"
      ]
    },
    {
      "cell_type": "markdown",
      "metadata": {
        "id": "BtywZI3jQyph"
      },
      "source": [
        "## Selección y Creación de Nuevas Caracteristicas"
      ]
    },
    {
      "cell_type": "markdown",
      "metadata": {},
      "source": [
        "Aquí se calcula y visualiza la matriz de correlación para las variables numéricas."
      ]
    },
    {
      "cell_type": "markdown",
      "metadata": {},
      "source": [
        "Balance_Edad_Ratio:\n",
        "\n",
        "Cálculo: df['Balance'] / df['Edad']\n",
        "\n",
        "Propósito: Esta nueva característica representa la relación entre el balance y la edad del cliente. Al normalizar el balance por la edad, podemos obtener una métrica que refleje mejor la estabilidad financiera o la acumulación de riqueza en relación con la edad del cliente. Esta relación puede ser útil para identificar patrones o tendencias que no son evidentes cuando se consideran la edad y el balance por separado.\n",
        "\n",
        "Duracion_Categoria:\n",
        "\n",
        "Cálculo: pd.cut(df['Duracion'], bins=3, labels=['Corta', 'Media', 'Larga'])\n",
        "\n",
        "Propósito: Divide la duración de las llamadas (último contacto) en tres categorías basadas en terciles. Esto transforma una variable numérica en una categórica, facilitando la modelización y posiblemente revelando diferentes comportamientos o tendencias en las respuestas de los clientes según la duración de la llamada. Usar categorías como 'Corta', 'Media' y 'Larga' hace que los resultados sean más interpretables."
      ]
    },
    {
      "cell_type": "code",
      "execution_count": 19,
      "metadata": {
        "id": "DqJiwcJ5Q4RX"
      },
      "outputs": [
        {
          "name": "stdout",
          "output_type": "stream",
          "text": [
            "\n",
            "Nuevas características creadas: 'Balance_Edad_Ratio' y 'Duracion_Categoria'\n"
          ]
        }
      ],
      "source": [
        "# 7. Selección y Creación de Nuevas Características \n",
        "df['Balance_Edad_Ratio'] = df['Balance'] / df['Edad']\n",
        "df['Duracion_Categoria'] = pd.cut(df['Duracion'], bins=3, labels=['Corta', 'Media', 'Larga'])\n",
        "print(\"\\nNuevas características creadas: 'Balance_Edad_Ratio' y 'Duracion_Categoria'\")\n"
      ]
    },
    {
      "cell_type": "markdown",
      "metadata": {
        "id": "o0ripOHhQ5lN"
      },
      "source": [
        "### Preparación de Datasets para Modelado"
      ]
    },
    {
      "cell_type": "markdown",
      "metadata": {},
      "source": [
        "Esta sección prepara los datos para el modelado, incluyendo la separación de características y objetivo, y la división en conjuntos de entrenamiento y prueba."
      ]
    },
    {
      "cell_type": "markdown",
      "metadata": {},
      "source": [
        "Descripción de Componentes\n",
        "División de Características y Etiquetas:\n",
        "\n",
        "X contiene todas las columnas excepto la columna objetivo 'Deposito'.\n",
        "y contiene la columna objetivo 'Deposito'.\n",
        "Pipelines de Transformación:\n",
        "\n",
        "Transformador Numérico: Incluye imputación de medianas para manejar valores faltantes y escalado estándar para normalizar las características numéricas.\n",
        "Transformador Categórico: Utiliza imputación de valores constantes para valores faltantes y codificación one-hot para manejar variables categóricas.\n",
        "ColumnTransformer:\n",
        "\n",
        "Combina los transformadores numéricos y categóricos, aplicando cada uno a sus respectivas características.\n",
        "División en Conjuntos de Entrenamiento y Prueba:\n",
        "\n",
        "Utiliza train_test_split para dividir los datos en un conjunto de entrenamiento (80%) y un conjunto de prueba (20%), con un random_state para reproducibilidad."
      ]
    },
    {
      "cell_type": "code",
      "execution_count": 20,
      "metadata": {
        "id": "Lj9-zwQMQ_Io"
      },
      "outputs": [
        {
          "name": "stdout",
          "output_type": "stream",
          "text": [
            "\n",
            "Datos divididos en conjuntos de entrenamiento y prueba\n"
          ]
        }
      ],
      "source": [
        "# 8. Preparación de Datasets para Modelado (5 puntos)\n",
        "from sklearn.model_selection import train_test_split\n",
        "from sklearn.preprocessing import StandardScaler, OneHotEncoder\n",
        "from sklearn.impute import SimpleImputer\n",
        "from sklearn.compose import ColumnTransformer\n",
        "from sklearn.pipeline import Pipeline\n",
        "\n",
        "X = df.drop('Deposito', axis=1)\n",
        "y = df['Deposito']\n",
        "\n",
        "numeric_features = ['Edad', 'Balance', 'Duracion', 'Campania']\n",
        "categorical_features = ['Trabajo', 'Estado_Civil', 'Educacion', 'Contacto', 'Mes']\n",
        "\n",
        "numeric_transformer = Pipeline(steps=[\n",
        "    ('imputer', SimpleImputer(strategy='median')),\n",
        "    ('scaler', StandardScaler())\n",
        "])\n",
        "\n",
        "categorical_transformer = Pipeline(steps=[\n",
        "    ('imputer', SimpleImputer(strategy='constant', fill_value='missing')),\n",
        "    ('onehot', OneHotEncoder(handle_unknown='ignore'))\n",
        "])\n",
        "\n",
        "preprocessor = ColumnTransformer(\n",
        "    transformers=[\n",
        "        ('num', numeric_transformer, numeric_features),\n",
        "        ('cat', categorical_transformer, categorical_features)\n",
        "    ])\n",
        "\n",
        "X_train, X_test, y_train, y_test = train_test_split(X, y, test_size=0.2, random_state=42)\n",
        "print(\"\\nDatos divididos en conjuntos de entrenamiento y prueba\")"
      ]
    },
    {
      "cell_type": "markdown",
      "metadata": {
        "id": "OaITF6vrRB2E"
      },
      "source": [
        "### Selección de Algoritmos Adecuados"
      ]
    },
    {
      "cell_type": "markdown",
      "metadata": {},
      "source": [
        "Aquí se seleccionan los modelos que se utilizarán para el análisis."
      ]
    },
    {
      "cell_type": "code",
      "execution_count": 21,
      "metadata": {
        "id": "smaJNMasRGeo"
      },
      "outputs": [
        {
          "name": "stdout",
          "output_type": "stream",
          "text": [
            "\n",
            "Modelos seleccionados: Logistic Regression, Decision Tree, Random Forest\n"
          ]
        }
      ],
      "source": [
        "# 9. Selección de Algoritmos Adecuados (5 puntos)\n",
        "from sklearn.linear_model import LogisticRegression\n",
        "from sklearn.tree import DecisionTreeClassifier\n",
        "from sklearn.ensemble import RandomForestClassifier\n",
        "\n",
        "models = {\n",
        "    'Logistic Regression': LogisticRegression(),\n",
        "    'Decision Tree': DecisionTreeClassifier(),\n",
        "    'Random Forest': RandomForestClassifier()\n",
        "}\n",
        "\n",
        "print(\"\\nModelos seleccionados: Logistic Regression, Decision Tree, Random Forest\")"
      ]
    },
    {
      "cell_type": "markdown",
      "metadata": {
        "id": "6fyCFZxSRIsT"
      },
      "source": [
        "### Implementación Correcta de Modelos"
      ]
    },
    {
      "cell_type": "markdown",
      "metadata": {},
      "source": [
        "Esta sección implementa los modelos seleccionados y los evalúa utilizando varias métricas.\n",
        "\n"
      ]
    },
    {
      "cell_type": "code",
      "execution_count": 22,
      "metadata": {
        "id": "_18yirw7RLq4"
      },
      "outputs": [],
      "source": [
        "# 10. Implementación correcta de modelos\n",
        "X_train, X_test, y_train, y_test = train_test_split(X, y, test_size=0.2, random_state=42)\n",
        "\n",
        "for name, model in models.items():\n",
        "    # Creamos un pipeline que incluye el preprocesamiento y el modelo\n",
        "    pipeline = Pipeline(steps=[('preprocessor', preprocessor),\n",
        "                               ('classifier', model)])\n",
        "    \n",
        "    # Entrenamos el modelo\n",
        "    pipeline.fit(X_train, y_train)"
      ]
    },
    {
      "cell_type": "markdown",
      "metadata": {
        "id": "kXrjc7mzRPYm"
      },
      "source": [
        "### Evaluación del Modelo"
      ]
    },
    {
      "cell_type": "markdown",
      "metadata": {},
      "source": [
        "Esta sección implementa los modelos seleccionados y los evalúa utilizando varias métricas.\n",
        "\n"
      ]
    },
    {
      "cell_type": "code",
      "execution_count": 23,
      "metadata": {
        "id": "lNhrtSQrRR7W"
      },
      "outputs": [
        {
          "name": "stdout",
          "output_type": "stream",
          "text": [
            "\n",
            "Resultados para Logistic Regression:\n",
            "              precision    recall  f1-score   support\n",
            "\n",
            "          no       0.79      0.82      0.80      1166\n",
            "         yes       0.80      0.75      0.77      1067\n",
            "\n",
            "    accuracy                           0.79      2233\n",
            "   macro avg       0.79      0.79      0.79      2233\n",
            "weighted avg       0.79      0.79      0.79      2233\n",
            "\n",
            "Matriz de Confusión:\n",
            "[[959 207]\n",
            " [262 805]]\n",
            "AUC-ROC: 0.8784669027635554\n",
            "\n",
            "Resultados para Decision Tree:\n",
            "              precision    recall  f1-score   support\n",
            "\n",
            "          no       0.76      0.75      0.75      1166\n",
            "         yes       0.73      0.74      0.73      1067\n",
            "\n",
            "    accuracy                           0.74      2233\n",
            "   macro avg       0.74      0.74      0.74      2233\n",
            "weighted avg       0.74      0.74      0.74      2233\n",
            "\n",
            "Matriz de Confusión:\n",
            "[[872 294]\n",
            " [279 788]]\n",
            "AUC-ROC: 0.7431875652066277\n",
            "\n",
            "Resultados para Random Forest:\n",
            "              precision    recall  f1-score   support\n",
            "\n",
            "          no       0.84      0.80      0.82      1166\n",
            "         yes       0.79      0.83      0.81      1067\n",
            "\n",
            "    accuracy                           0.81      2233\n",
            "   macro avg       0.81      0.81      0.81      2233\n",
            "weighted avg       0.81      0.81      0.81      2233\n",
            "\n",
            "Matriz de Confusión:\n",
            "[[929 237]\n",
            " [183 884]]\n",
            "AUC-ROC: 0.8868097340936018\n"
          ]
        }
      ],
      "source": [
        "# 11. Evaluación del Modelo (10 puntos)\n",
        "from sklearn.metrics import classification_report, confusion_matrix, roc_auc_score\n",
        "\n",
        "for name, model in models.items():\n",
        "    pipeline = Pipeline(steps=[('preprocessor', preprocessor),\n",
        "                               ('classifier', model)])\n",
        "    \n",
        "    pipeline.fit(X_train, y_train)\n",
        "    \n",
        "    y_pred = pipeline.predict(X_test)\n",
        "    print(f\"\\nResultados para {name}:\")\n",
        "    print(classification_report(y_test, y_pred))\n",
        "    print(\"Matriz de Confusión:\")\n",
        "    print(confusion_matrix(y_test, y_pred))\n",
        "    print(f\"AUC-ROC: {roc_auc_score(y_test, pipeline.predict_proba(X_test)[:, 1])}\")"
      ]
    },
    {
      "cell_type": "markdown",
      "metadata": {
        "id": "NMAwRcr-RTdy"
      },
      "source": [
        "### Interpretación de Resultados"
      ]
    },
    {
      "cell_type": "markdown",
      "metadata": {},
      "source": [
        "Aquí se interpreta el modelo Random Forest, mostrando la importancia de cada característica."
      ]
    },
    {
      "cell_type": "code",
      "execution_count": 24,
      "metadata": {
        "id": "egu1EjYbRYfX"
      },
      "outputs": [
        {
          "data": {
            "image/png": "[encoded data removed]",
            "text/plain": [
              "<Figure size 1200x800 with 1 Axes>"
            ]
          },
          "metadata": {},
          "output_type": "display_data"
        }
      ],
      "source": [
        "import pandas as pd\n",
        "import matplotlib.pyplot as plt\n",
        "\n",
        "# Crear y ajustar el pipeline\n",
        "pipeline = Pipeline(steps=[('preprocessor', preprocessor),\n",
        "                           ('classifier', model)])\n",
        "pipeline.fit(X_train, y_train)\n",
        "\n",
        "# Obtener el preprocesador ajustado del pipeline y extraer los nombres de las características\n",
        "preprocessor_fitted = pipeline.named_steps['preprocessor']\n",
        "feature_names = (numeric_features + \n",
        "                 list(preprocessor_fitted.named_transformers_['cat'].named_steps['onehot'].get_feature_names_out()))\n",
        "\n",
        "# Mapeo de nombres de características en inglés a español\n",
        "feature_map = {\n",
        "    'age': 'Edad',\n",
        "    'balance': 'Saldo',\n",
        "    'day': 'Día',\n",
        "    'duration': 'Duración',\n",
        "    'campaign': 'Campaña',\n",
        "    'pdays': 'Días desde último contacto',\n",
        "    'previous': 'Contactos previos',\n",
        "    'job_admin.': 'Trabajo_Administrativo',\n",
        "    'job_blue-collar': 'Trabajo_Obrero',\n",
        "    'job_entrepreneur': 'Trabajo_Emprendedor',\n",
        "    'job_housemaid': 'Trabajo_Ama de casa',\n",
        "    'job_management': 'Trabajo_Gerencia',\n",
        "    'job_retired': 'Trabajo_Jubilado',\n",
        "    'job_self-employed': 'Trabajo_Autónomo',\n",
        "    'job_services': 'Trabajo_Servicios',\n",
        "    'job_student': 'Trabajo_Estudiante',\n",
        "    'job_technician': 'Trabajo_Técnico',\n",
        "    'job_unemployed': 'Trabajo_Desempleado',\n",
        "    'job_unknown': 'Trabajo_Desconocido',\n",
        "    'marital_divorced': 'Estado civil_Divorciado',\n",
        "    'marital_married': 'Estado civil_Casado',\n",
        "    'marital_single': 'Estado civil_Soltero',\n",
        "    'education_primary': 'Educación_Primaria',\n",
        "    'education_secondary': 'Educación_Secundaria',\n",
        "    'education_tertiary': 'Educación_Terciaria',\n",
        "    'education_unknown': 'Educación_Desconocida',\n",
        "    'default_no': 'Impago_No',\n",
        "    'default_yes': 'Impago_Sí',\n",
        "    'housing_no': 'Vivienda_No',\n",
        "    'housing_yes': 'Vivienda_Sí',\n",
        "    'loan_no': 'Préstamo_No',\n",
        "    'loan_yes': 'Préstamo_Sí',\n",
        "    'contact_cellular': 'Contacto_Celular',\n",
        "    'contact_telephone': 'Contacto_Teléfono',\n",
        "    'contact_unknown': 'Contacto_Desconocido',\n",
        "    'month_apr': 'Mes_Abril',\n",
        "    'month_aug': 'Mes_Agosto',\n",
        "    'month_dec': 'Mes_Diciembre',\n",
        "    'month_feb': 'Mes_Febrero',\n",
        "    'month_jan': 'Mes_Enero',\n",
        "    'month_jul': 'Mes_Julio',\n",
        "    'month_jun': 'Mes_Junio',\n",
        "    'month_mar': 'Mes_Marzo',\n",
        "    'month_may': 'Mes_Mayo',\n",
        "    'month_nov': 'Mes_Noviembre',\n",
        "    'month_oct': 'Mes_Octubre',\n",
        "    'month_sep': 'Mes_Septiembre',\n",
        "    'poutcome_failure': 'Resultado anterior_Fracaso',\n",
        "    'poutcome_other': 'Resultado anterior_Otro',\n",
        "    'poutcome_success': 'Resultado anterior_Éxito',\n",
        "    'poutcome_unknown': 'Resultado anterior_Desconocido'\n",
        "}\n",
        "\n",
        "# Obtener la importancia de las características\n",
        "importances = pipeline.named_steps['classifier'].feature_importances_\n",
        "forest_importances = pd.Series(importances, index=feature_names).sort_values(ascending=False)\n",
        "\n",
        "# Traducir los nombres de las características\n",
        "forest_importances.index = forest_importances.index.map(lambda x: feature_map.get(x, x))\n",
        "\n",
        "# Visualización\n",
        "plt.figure(figsize=(12, 8))\n",
        "forest_importances.plot.bar()\n",
        "plt.title('Importancia de características en Random Forest')\n",
        "plt.xlabel('Características')\n",
        "plt.ylabel('Importancia')\n",
        "plt.xticks(rotation=90)\n",
        "plt.tight_layout()\n",
        "plt.show()\n"
      ]
    },
    {
      "cell_type": "markdown",
      "metadata": {},
      "source": [
        "### Optimizacion de Hiperparametros"
      ]
    },
    {
      "cell_type": "markdown",
      "metadata": {},
      "source": [
        "Para optimizar los hiperparámetros del modelo Random Forest, se puede útilizar técnicas como la búsqueda en rejilla (Grid Search) o la búsqueda aleatoria (Random Search). Ambas están disponibles en Scikit-learn a través de GridSearchCV y RandomSearchCV. La búsqueda aleatoria puede ser más eficiente en espacios de hiperparámetros de alta dimensión, ya que no evalúa todas las combinaciones posibles como lo hace la búsqueda en rejilla, sino que selecciona combinaciones al azar dentro de las distribuciones especificadas."
      ]
    },
    {
      "cell_type": "code",
      "execution_count": 25,
      "metadata": {},
      "outputs": [
        {
          "name": "stdout",
          "output_type": "stream",
          "text": [
            "Fitting 5 folds for each of 200 candidates, totalling 1000 fits\n"
          ]
        }
      ],
      "source": [
        "from sklearn.ensemble import RandomForestClassifier\n",
        "from sklearn.model_selection import RandomizedSearchCV\n",
        "from sklearn.pipeline import Pipeline\n",
        "import numpy as np\n",
        "\n",
        "# Definir el pipeline con el preprocesador y el clasificador\n",
        "pipeline = Pipeline([\n",
        "    ('preprocessor', preprocessor),\n",
        "    ('classifier', RandomForestClassifier(random_state=42))\n",
        "])\n",
        "\n",
        "# Definir la distribución de hiperparámetros para la búsqueda aleatoria\n",
        "param_distributions = {\n",
        "    'classifier__n_estimators': [100, 200, 300, 400, 500, 600],\n",
        "    'classifier__max_features': ['auto', 'sqrt', 'log2'],\n",
        "    'classifier__max_depth': [None, 10, 20, 30, 40, 50, 60],\n",
        "    'classifier__min_samples_split': [2, 5, 10, 15],\n",
        "    'classifier__min_samples_leaf': [1, 2, 4, 6],\n",
        "    'classifier__bootstrap': [True, False]\n",
        "}\n",
        "\n",
        "# Crear el objeto RandomizedSearchCV\n",
        "random_search = RandomizedSearchCV(pipeline, param_distributions=param_distributions, \n",
        "                                   n_iter=200, cv=5, verbose=2, random_state=42, n_jobs=-1)\n",
        "\n",
        "# Ajustar RandomizedSearchCV\n",
        "random_search.fit(X_train, y_train)\n",
        "\n",
        "# Mejores parámetros encontrados\n",
        "print(\"Mejores parámetros encontrados: \", random_search.best_params_)\n",
        "\n",
        "# Evaluar el modelo con los mejores parámetros\n",
        "best_model = random_search.best_estimator_\n",
        "y_pred = best_model.predict(X_test)\n",
        "\n",
        "# Aquí podrías imprimir el reporte de clasificación o la matriz de confusión para ver la mejora\n",
        "print(classification_report(y_test, y_pred))\n"
      ]
    },
    {
      "cell_type": "markdown",
      "metadata": {},
      "source": [
        "### RED NEURONAL"
      ]
    },
    {
      "cell_type": "markdown",
      "metadata": {},
      "source": [
        "Paso 1: Preparación de los datos\n",
        "\n",
        "Primero, aseguramos de que los datos están listos y preprocesados adecuadamente para una red neuronal. Los datos deben estar normalizados, y las etiquetas categóricas deben estar codificadas en one-hot."
      ]
    },
    {
      "cell_type": "code",
      "execution_count": 23,
      "metadata": {},
      "outputs": [],
      "source": [
        "from sklearn.preprocessing import StandardScaler, OneHotEncoder\n",
        "from sklearn.compose import ColumnTransformer\n",
        "from sklearn.pipeline import Pipeline\n",
        "from sklearn.model_selection import train_test_split\n",
        "\n",
        "# Asumiendo que df es tu DataFrame y ya tiene las características y etiquetas definidas\n",
        "\n",
        "# Separar las características y las etiquetas\n",
        "X = df.drop('Deposito', axis=1)\n",
        "y = df['Deposito']\n",
        "\n",
        "# Preprocesamiento para redes neuronales\n",
        "numeric_features = ['Edad', 'Balance', 'Duracion', 'Campania']  # Actualiza esta lista según tu dataset\n",
        "categorical_features = ['Trabajo', 'Estado_Civil', 'Educacion', 'Contacto', 'Mes']  # Ídem\n",
        "\n",
        "# Transformador para características numéricas\n",
        "numeric_transformer = Pipeline(steps=[\n",
        "    ('scaler', StandardScaler())\n",
        "])\n",
        "\n",
        "# Transformador para características categóricas\n",
        "categorical_transformer = Pipeline(steps=[\n",
        "    ('onehot', OneHotEncoder())\n",
        "])\n",
        "\n",
        "# Combinar transformadores\n",
        "preprocessor = ColumnTransformer(\n",
        "    transformers=[\n",
        "        ('num', numeric_transformer, numeric_features),\n",
        "        ('cat', categorical_transformer, categorical_features)\n",
        "    ])\n",
        "\n",
        "# Dividir los datos en conjuntos de entrenamiento y prueba\n",
        "X_train, X_test, y_train, y_test = train_test_split(X, y, test_size=0.2, random_state=42)\n",
        "\n",
        "# Ajustar y transformar los datos\n",
        "X_train = preprocessor.fit_transform(X_train)\n",
        "X_test = preprocessor.transform(X_test)\n",
        "\n",
        "# Codificar las etiquetas\n",
        "y_train = pd.get_dummies(y_train)\n",
        "y_test = pd.get_dummies(y_test)\n"
      ]
    },
    {
      "cell_type": "markdown",
      "metadata": {},
      "source": [
        "2 construir el modelo\n",
        "\n",
        "La construcción del modelo implica definir la arquitectura de la red neuronal, es decir, cuántas capas tiene, cuántas neuronas hay en cada capa, qué funciones de activación se utilizan, y cualquier técnica de regularización (como Dropout). Aquí es donde especificamos cómo está estructurada la red y cómo procesará los datos."
      ]
    },
    {
      "cell_type": "code",
      "execution_count": 26,
      "metadata": {},
      "outputs": [
        {
          "name": "stderr",
          "output_type": "stream",
          "text": [
            "d:\\Users\\silve\\anaconda3\\Lib\\site-packages\\keras\\src\\layers\\core\\dense.py:87: UserWarning: Do not pass an `input_shape`/`input_dim` argument to a layer. When using Sequential models, prefer using an `Input(shape)` object as the first layer in the model instead.\n",
            "  super().__init__(activity_regularizer=activity_regularizer, **kwargs)\n"
          ]
        },
        {
          "data": {
            "text/html": [
              "<pre style=\"white-space:pre;overflow-x:auto;line-height:normal;font-family:Menlo,'DejaVu Sans Mono',consolas,'Courier New',monospace\"><span style=\"font-weight: bold\">Model: \"sequential_1\"</span>\n",
              "</pre>\n"
            ],
            "text/plain": [
              "\u001b[1mModel: \"sequential_1\"\u001b[0m\n"
            ]
          },
          "metadata": {},
          "output_type": "display_data"
        },
        {
          "data": {
            "text/html": [
              "<pre style=\"white-space:pre;overflow-x:auto;line-height:normal;font-family:Menlo,'DejaVu Sans Mono',consolas,'Courier New',monospace\">┏━━━━━━━━━━━━━━━━━━━━━━━━━━━━━━━━━┳━━━━━━━━━━━━━━━━━━━━━━━━┳━━━━━━━━━━━━━━━┓\n",
              "┃<span style=\"font-weight: bold\"> Layer (type)                    </span>┃<span style=\"font-weight: bold\"> Output Shape           </span>┃<span style=\"font-weight: bold\">       Param # </span>┃\n",
              "┡━━━━━━━━━━━━━━━━━━━━━━━━━━━━━━━━━╇━━━━━━━━━━━━━━━━━━━━━━━━╇━━━━━━━━━━━━━━━┩\n",
              "│ dense_3 (<span style=\"color: #0087ff; text-decoration-color: #0087ff\">Dense</span>)                 │ (<span style=\"color: #00d7ff; text-decoration-color: #00d7ff\">None</span>, <span style=\"color: #00af00; text-decoration-color: #00af00\">128</span>)            │         <span style=\"color: #00af00; text-decoration-color: #00af00\">4,992</span> │\n",
              "├─────────────────────────────────┼────────────────────────┼───────────────┤\n",
              "│ dropout (<span style=\"color: #0087ff; text-decoration-color: #0087ff\">Dropout</span>)               │ (<span style=\"color: #00d7ff; text-decoration-color: #00d7ff\">None</span>, <span style=\"color: #00af00; text-decoration-color: #00af00\">128</span>)            │             <span style=\"color: #00af00; text-decoration-color: #00af00\">0</span> │\n",
              "├─────────────────────────────────┼────────────────────────┼───────────────┤\n",
              "│ dense_4 (<span style=\"color: #0087ff; text-decoration-color: #0087ff\">Dense</span>)                 │ (<span style=\"color: #00d7ff; text-decoration-color: #00d7ff\">None</span>, <span style=\"color: #00af00; text-decoration-color: #00af00\">128</span>)            │        <span style=\"color: #00af00; text-decoration-color: #00af00\">16,512</span> │\n",
              "├─────────────────────────────────┼────────────────────────┼───────────────┤\n",
              "│ dropout_1 (<span style=\"color: #0087ff; text-decoration-color: #0087ff\">Dropout</span>)             │ (<span style=\"color: #00d7ff; text-decoration-color: #00d7ff\">None</span>, <span style=\"color: #00af00; text-decoration-color: #00af00\">128</span>)            │             <span style=\"color: #00af00; text-decoration-color: #00af00\">0</span> │\n",
              "├─────────────────────────────────┼────────────────────────┼───────────────┤\n",
              "│ dense_5 (<span style=\"color: #0087ff; text-decoration-color: #0087ff\">Dense</span>)                 │ (<span style=\"color: #00d7ff; text-decoration-color: #00d7ff\">None</span>, <span style=\"color: #00af00; text-decoration-color: #00af00\">2</span>)              │           <span style=\"color: #00af00; text-decoration-color: #00af00\">258</span> │\n",
              "└─────────────────────────────────┴────────────────────────┴───────────────┘\n",
              "</pre>\n"
            ],
            "text/plain": [
              "┏━━━━━━━━━━━━━━━━━━━━━━━━━━━━━━━━━┳━━━━━━━━━━━━━━━━━━━━━━━━┳━━━━━━━━━━━━━━━┓\n",
              "┃\u001b[1m \u001b[0m\u001b[1mLayer (type)                   \u001b[0m\u001b[1m \u001b[0m┃\u001b[1m \u001b[0m\u001b[1mOutput Shape          \u001b[0m\u001b[1m \u001b[0m┃\u001b[1m \u001b[0m\u001b[1m      Param #\u001b[0m\u001b[1m \u001b[0m┃\n",
              "┡━━━━━━━━━━━━━━━━━━━━━━━━━━━━━━━━━╇━━━━━━━━━━━━━━━━━━━━━━━━╇━━━━━━━━━━━━━━━┩\n",
              "│ dense_3 (\u001b[38;5;33mDense\u001b[0m)                 │ (\u001b[38;5;45mNone\u001b[0m, \u001b[38;5;34m128\u001b[0m)            │         \u001b[38;5;34m4,992\u001b[0m │\n",
              "├─────────────────────────────────┼────────────────────────┼───────────────┤\n",
              "│ dropout (\u001b[38;5;33mDropout\u001b[0m)               │ (\u001b[38;5;45mNone\u001b[0m, \u001b[38;5;34m128\u001b[0m)            │             \u001b[38;5;34m0\u001b[0m │\n",
              "├─────────────────────────────────┼────────────────────────┼───────────────┤\n",
              "│ dense_4 (\u001b[38;5;33mDense\u001b[0m)                 │ (\u001b[38;5;45mNone\u001b[0m, \u001b[38;5;34m128\u001b[0m)            │        \u001b[38;5;34m16,512\u001b[0m │\n",
              "├─────────────────────────────────┼────────────────────────┼───────────────┤\n",
              "│ dropout_1 (\u001b[38;5;33mDropout\u001b[0m)             │ (\u001b[38;5;45mNone\u001b[0m, \u001b[38;5;34m128\u001b[0m)            │             \u001b[38;5;34m0\u001b[0m │\n",
              "├─────────────────────────────────┼────────────────────────┼───────────────┤\n",
              "│ dense_5 (\u001b[38;5;33mDense\u001b[0m)                 │ (\u001b[38;5;45mNone\u001b[0m, \u001b[38;5;34m2\u001b[0m)              │           \u001b[38;5;34m258\u001b[0m │\n",
              "└─────────────────────────────────┴────────────────────────┴───────────────┘\n"
            ]
          },
          "metadata": {},
          "output_type": "display_data"
        },
        {
          "data": {
            "text/html": [
              "<pre style=\"white-space:pre;overflow-x:auto;line-height:normal;font-family:Menlo,'DejaVu Sans Mono',consolas,'Courier New',monospace\"><span style=\"font-weight: bold\"> Total params: </span><span style=\"color: #00af00; text-decoration-color: #00af00\">21,762</span> (85.01 KB)\n",
              "</pre>\n"
            ],
            "text/plain": [
              "\u001b[1m Total params: \u001b[0m\u001b[38;5;34m21,762\u001b[0m (85.01 KB)\n"
            ]
          },
          "metadata": {},
          "output_type": "display_data"
        },
        {
          "data": {
            "text/html": [
              "<pre style=\"white-space:pre;overflow-x:auto;line-height:normal;font-family:Menlo,'DejaVu Sans Mono',consolas,'Courier New',monospace\"><span style=\"font-weight: bold\"> Trainable params: </span><span style=\"color: #00af00; text-decoration-color: #00af00\">21,762</span> (85.01 KB)\n",
              "</pre>\n"
            ],
            "text/plain": [
              "\u001b[1m Trainable params: \u001b[0m\u001b[38;5;34m21,762\u001b[0m (85.01 KB)\n"
            ]
          },
          "metadata": {},
          "output_type": "display_data"
        },
        {
          "data": {
            "text/html": [
              "<pre style=\"white-space:pre;overflow-x:auto;line-height:normal;font-family:Menlo,'DejaVu Sans Mono',consolas,'Courier New',monospace\"><span style=\"font-weight: bold\"> Non-trainable params: </span><span style=\"color: #00af00; text-decoration-color: #00af00\">0</span> (0.00 B)\n",
              "</pre>\n"
            ],
            "text/plain": [
              "\u001b[1m Non-trainable params: \u001b[0m\u001b[38;5;34m0\u001b[0m (0.00 B)\n"
            ]
          },
          "metadata": {},
          "output_type": "display_data"
        }
      ],
      "source": [
        "import tensorflow as tf\n",
        "from tensorflow.keras.layers import Dropout\n",
        "from tensorflow.keras.callbacks import EarlyStopping\n",
        "\n",
        "\n",
        "# Definir la estructura del modelo\n",
        "model = Sequential([\n",
        "    Dense(128, activation='relu', input_shape=(X_train.shape[1],)),  # Primera capa oculta con activación ReLU\n",
        "    Dropout(0.5),  # Capa de Dropout para reducir el sobreajuste\n",
        "    Dense(128, activation='relu'),  # Segunda capa oculta\n",
        "    Dropout(0.5),  # Otra capa de Dropout\n",
        "    Dense(2, activation='softmax')  # Capa de salida con activación softmax para clasificación\n",
        "])\n",
        "\n",
        "# Compilar el modelo\n",
        "model.compile(optimizer='adam', loss='categorical_crossentropy', metrics=['accuracy'])\n",
        "\n",
        "# Resumen del modelo\n",
        "model.summary()\n"
      ]
    },
    {
      "cell_type": "markdown",
      "metadata": {},
      "source": [
        "Entrenar al modelo\n",
        "\n",
        "El entrenamiento del modelo es el proceso mediante el cual el modelo aprende de los datos. Aquí es donde usamos los datos de entrenamiento para ajustar los pesos de las neuronas en la red, utilizando los parámetros configurados durante la compilación y bajo la estructura definida en la construcción del modelo. Además, aquí implementamos técnicas como el EarlyStopping para mejorar el proceso de entrenamiento y evitar el sobreajuste."
      ]
    },
    {
      "cell_type": "code",
      "execution_count": 28,
      "metadata": {},
      "outputs": [
        {
          "name": "stdout",
          "output_type": "stream",
          "text": [
            "Epoch 1/100\n",
            "\u001b[1m112/112\u001b[0m \u001b[32m━━━━━━━━━━━━━━━━━━━━\u001b[0m\u001b[37m\u001b[0m \u001b[1m2s\u001b[0m 13ms/step - accuracy: 0.8375 - loss: 0.3682 - val_accuracy: 0.8141 - val_loss: 0.4203\n",
            "Epoch 2/100\n",
            "\u001b[1m112/112\u001b[0m \u001b[32m━━━━━━━━━━━━━━━━━━━━\u001b[0m\u001b[37m\u001b[0m \u001b[1m1s\u001b[0m 6ms/step - accuracy: 0.8473 - loss: 0.3577 - val_accuracy: 0.8113 - val_loss: 0.4214\n",
            "Epoch 3/100\n",
            "\u001b[1m112/112\u001b[0m \u001b[32m━━━━━━━━━━━━━━━━━━━━\u001b[0m\u001b[37m\u001b[0m \u001b[1m1s\u001b[0m 5ms/step - accuracy: 0.8394 - loss: 0.3702 - val_accuracy: 0.8152 - val_loss: 0.4254\n",
            "Epoch 4/100\n",
            "\u001b[1m112/112\u001b[0m \u001b[32m━━━━━━━━━━━━━━━━━━━━\u001b[0m\u001b[37m\u001b[0m \u001b[1m1s\u001b[0m 7ms/step - accuracy: 0.8474 - loss: 0.3665 - val_accuracy: 0.8119 - val_loss: 0.4202\n",
            "Epoch 5/100\n",
            "\u001b[1m112/112\u001b[0m \u001b[32m━━━━━━━━━━━━━━━━━━━━\u001b[0m\u001b[37m\u001b[0m \u001b[1m1s\u001b[0m 8ms/step - accuracy: 0.8468 - loss: 0.3599 - val_accuracy: 0.8141 - val_loss: 0.4181\n",
            "Epoch 6/100\n",
            "\u001b[1m112/112\u001b[0m \u001b[32m━━━━━━━━━━━━━━━━━━━━\u001b[0m\u001b[37m\u001b[0m \u001b[1m1s\u001b[0m 6ms/step - accuracy: 0.8441 - loss: 0.3631 - val_accuracy: 0.8096 - val_loss: 0.4236\n",
            "Epoch 7/100\n",
            "\u001b[1m112/112\u001b[0m \u001b[32m━━━━━━━━━━━━━━━━━━━━\u001b[0m\u001b[37m\u001b[0m \u001b[1m1s\u001b[0m 6ms/step - accuracy: 0.8369 - loss: 0.3674 - val_accuracy: 0.8102 - val_loss: 0.4210\n",
            "Epoch 8/100\n",
            "\u001b[1m112/112\u001b[0m \u001b[32m━━━━━━━━━━━━━━━━━━━━\u001b[0m\u001b[37m\u001b[0m \u001b[1m1s\u001b[0m 7ms/step - accuracy: 0.8429 - loss: 0.3653 - val_accuracy: 0.8102 - val_loss: 0.4255\n",
            "Epoch 9/100\n",
            "\u001b[1m112/112\u001b[0m \u001b[32m━━━━━━━━━━━━━━━━━━━━\u001b[0m\u001b[37m\u001b[0m \u001b[1m1s\u001b[0m 6ms/step - accuracy: 0.8430 - loss: 0.3668 - val_accuracy: 0.8063 - val_loss: 0.4239\n",
            "Epoch 10/100\n",
            "\u001b[1m112/112\u001b[0m \u001b[32m━━━━━━━━━━━━━━━━━━━━\u001b[0m\u001b[37m\u001b[0m \u001b[1m1s\u001b[0m 6ms/step - accuracy: 0.8459 - loss: 0.3542 - val_accuracy: 0.8180 - val_loss: 0.4196\n",
            "Epoch 11/100\n",
            "\u001b[1m112/112\u001b[0m \u001b[32m━━━━━━━━━━━━━━━━━━━━\u001b[0m\u001b[37m\u001b[0m \u001b[1m1s\u001b[0m 6ms/step - accuracy: 0.8457 - loss: 0.3551 - val_accuracy: 0.8152 - val_loss: 0.4232\n",
            "Epoch 12/100\n",
            "\u001b[1m112/112\u001b[0m \u001b[32m━━━━━━━━━━━━━━━━━━━━\u001b[0m\u001b[37m\u001b[0m \u001b[1m1s\u001b[0m 5ms/step - accuracy: 0.8467 - loss: 0.3429 - val_accuracy: 0.8102 - val_loss: 0.4187\n",
            "Epoch 13/100\n",
            "\u001b[1m112/112\u001b[0m \u001b[32m━━━━━━━━━━━━━━━━━━━━\u001b[0m\u001b[37m\u001b[0m \u001b[1m1s\u001b[0m 6ms/step - accuracy: 0.8450 - loss: 0.3500 - val_accuracy: 0.8085 - val_loss: 0.4213\n",
            "Epoch 14/100\n",
            "\u001b[1m112/112\u001b[0m \u001b[32m━━━━━━━━━━━━━━━━━━━━\u001b[0m\u001b[37m\u001b[0m \u001b[1m1s\u001b[0m 6ms/step - accuracy: 0.8590 - loss: 0.3399 - val_accuracy: 0.8113 - val_loss: 0.4223\n",
            "Epoch 15/100\n",
            "\u001b[1m112/112\u001b[0m \u001b[32m━━━━━━━━━━━━━━━━━━━━\u001b[0m\u001b[37m\u001b[0m \u001b[1m1s\u001b[0m 6ms/step - accuracy: 0.8514 - loss: 0.3383 - val_accuracy: 0.8158 - val_loss: 0.4185\n"
          ]
        }
      ],
      "source": [
        "from tensorflow.keras.callbacks import EarlyStopping\n",
        "\n",
        "# Callback para detener el entrenamiento si no hay mejora en la pérdida de validación\n",
        "early_stopping = EarlyStopping(monitor='val_loss', patience=10, restore_best_weights=True)\n",
        "\n",
        "# Entrenar el modelo\n",
        "history = model.fit(\n",
        "    X_train, y_train,\n",
        "    epochs=100,\n",
        "    batch_size=64,\n",
        "    validation_split=0.2,\n",
        "    callbacks=[early_stopping],  # Usar EarlyStopping durante el entrenamiento\n",
        "    verbose=1\n",
        ")\n"
      ]
    },
    {
      "cell_type": "markdown",
      "metadata": {},
      "source": [
        "Evaluación del Modelo\n",
        "\n",
        "Finalmente, después del entrenamiento, evaluamos el modelo utilizando el conjunto de datos de prueba para ver cómo se desempeña en datos que no ha visto durante el entrenamiento. Esto da una medida de cuán bien puede generalizar el modelo a nuevos datos."
      ]
    },
    {
      "cell_type": "code",
      "execution_count": 29,
      "metadata": {},
      "outputs": [
        {
          "name": "stdout",
          "output_type": "stream",
          "text": [
            "70/70 - 0s - 3ms/step - accuracy: 0.8115 - loss: 0.4046\n",
            "\n",
            "Test accuracy: 0.8114643692970276\n"
          ]
        }
      ],
      "source": [
        "# Evaluacion del modelo\n",
        "test_loss, test_acc = model.evaluate(X_test, y_test, verbose=2)\n",
        "print('\\nTest accuracy:', test_acc)\n"
      ]
    },
    {
      "cell_type": "markdown",
      "metadata": {
        "id": "kWDZWxkqRcsD"
      },
      "source": [
        "### Conclusiones y recomendaciones"
      ]
    },
    {
      "cell_type": "markdown",
      "metadata": {},
      "source": [
        "Esta sección presenta las conclusiones principales del análisis y ofrece recomendaciones basadas en los resultados."
      ]
    },
    {
      "cell_type": "code",
      "execution_count": 20,
      "metadata": {
        "id": "v0vcAdoARglh"
      },
      "outputs": [
        {
          "name": "stdout",
          "output_type": "stream",
          "text": [
            "\n",
            "Conclusiones y Recomendaciones:\n",
            "1. Las variables más influyentes en la decisión de depósito son: ['Duracion', 'Balance', 'Edad']\n",
            "2. El modelo Random Forest tuvo el mejor desempeño general\n",
            "3. Recomendamos enfocar las campañas en clientes con las características más influyentes identificadas\n"
          ]
        }
      ],
      "source": [
        "# 13. Conclusiones y Recomendaciones (5 puntos)\n",
        "print(\"\\nConclusiones y Recomendaciones:\")\n",
        "print(f\"1. Las variables más influyentes en la decisión de depósito son: {forest_importances.index[:3].tolist()}\")\n",
        "print(\"2. El modelo Random Forest tuvo el mejor desempeño general\")\n",
        "print(\"3. Recomendamos enfocar las campañas en clientes con las características más influyentes identificadas\")"
      ]
    }
  ],
  "metadata": {
    "colab": {
      "provenance": []
    },
    "kernelspec": {
      "display_name": "Python 3",
      "name": "python3"
    },
    "language_info": {
      "codemirror_mode": {
        "name": "ipython",
        "version": 3
      },
      "file_extension": ".py",
      "mimetype": "text/x-python",
      "name": "python",
      "nbconvert_exporter": "python",
      "pygments_lexer": "ipython3",
      "version": "3.11.7"
    }
  },
  "nbformat": 4,
  "nbformat_minor": 0
}
