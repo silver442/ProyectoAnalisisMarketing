{
  "cells": [
    {
      "cell_type": "markdown",
      "metadata": {
        "id": "KNZ1PogUJPTV"
      },
      "source": [
        "# Proyecto Marketing Bancario\n",
        "---\n",
        "Intergantes:\n",
        "\n",
        "| Nombre | apellido |\n",
        "| ---- | ---- |\n",
        "| Melany Odet | Castañeda Bazaldúa |\n",
        "| Genesis Guadalupe | Ibarra Iturbe |\n",
        "| silvestre | Hernandez Hernandez |\n",
        "| Alan Aarón | Martinez Celedonio |\n",
        "\n"
      ]
    },
    {
      "cell_type": "markdown",
      "metadata": {
        "id": "4wi4IDGsPvbP"
      },
      "source": [
        "## Datos de la actividad"
      ]
    },
    {
      "cell_type": "markdown",
      "metadata": {
        "id": "E6roTeP-Mr5V"
      },
      "source": [
        "### Descripción de Variables del Dataset de Marketing Bancario\n",
        "\n",
        "Este dataset contiene datos de una campaña de marketing bancario, donde se recopiló información sobre interacciones con clientes con el objetivo de predecir la efectividad de las campañas y mejorar las estrategias futuras. Los datos ofrecen una visión comprensiva sobre las características de los clientes y su respuesta a las campañas de telemarketing, permitiendo a los analistas explorar y descubrir patrones que pueden mejorar la efectividad de las futuras acciones de marketing. El análisis de este dataset ayudará a responder preguntas clave como la influencia del perfil demográfico y financiero del cliente en su disposición a suscribir nuevos servicios bancarios.\n",
        "\n",
        "- **Edad**: Edad del cliente.\n",
        "- **Trabajo**: Tipo de trabajo del cliente (ej. 'admin.', 'technician', 'services', etc.).\n",
        "- **Estado_Civil**: Estado civil del cliente (ej. 'married', 'single', 'divorced').\n",
        "- **Educacion**: Nivel educativo del cliente (ej. 'primary', 'secondary', 'tertiary').\n",
        "- **Default**: Indica si el cliente tiene crédito en mora ('yes', 'no').\n",
        "- **Balance**: Saldo anual promedio, en euros.\n",
        "- **Vivienda**: Indica si el cliente tiene un préstamo de vivienda ('yes', 'no').\n",
        "- **Prestamo**: Indica si el cliente tiene un préstamo personal ('yes', 'no').\n",
        "- **Contacto**: Tipo de comunicación de contacto utilizada (ej. 'telephone', 'cellular', 'unknown').\n",
        "- **Dia**: Día del mes en que se realizó el último contacto.\n",
        "- **Mes**: Mes del año en que se realizó el último contacto (ej. 'jan', 'feb', 'mar', etc.).\n",
        "- **Duracion**: Duración del último contacto, en segundos.\n",
        "- **Campania**: Número de contactos realizados durante esta campaña y para este cliente.\n",
        "- **Pdias**: Número de días que pasaron después de que el cliente fue contactado por última vez desde una campaña anterior.\n",
        "- **Anterior**: Número de contactos realizados antes de esta campaña y para este cliente.\n",
        "- **Resultado_Anterior**: Resultado de la campaña de marketing anterior (ej. 'failure', 'nonexistent', 'success').\n",
        "- **Deposito**: Indica si el cliente ha suscrito un depósito a plazo ('yes', 'no')."
      ]
    },
    {
      "cell_type": "markdown",
      "metadata": {},
      "source": [
        "Importacion de librerias"
      ]
    },
    {
      "cell_type": "code",
      "execution_count": 3,
      "metadata": {},
      "outputs": [],
      "source": [
        "import pandas as pd\n",
        "import numpy as np\n",
        "import matplotlib.pyplot as plt\n",
        "import seaborn as sns\n",
        "from sklearn.preprocessing import LabelEncoder, StandardScaler\n",
        "from sklearn.impute import SimpleImputer"
      ]
    },
    {
      "cell_type": "markdown",
      "metadata": {
        "id": "zi2LJgU3P5wG"
      },
      "source": [
        "## Criterios a cumplir"
      ]
    },
    {
      "cell_type": "markdown",
      "metadata": {
        "id": "FJLnR-XmQAhH"
      },
      "source": [
        "### Datos cargados y Visualizados Correctamente"
      ]
    },
    {
      "cell_type": "code",
      "execution_count": 4,
      "metadata": {
        "id": "X8NYh5dPQQcG"
      },
      "outputs": [
        {
          "name": "stdout",
          "output_type": "stream",
          "text": [
            "1. Carga de datos\n",
            "Dimensiones del DataFrame: (11162, 17)\n",
            "\n",
            "Primeras 5 filas del DataFrame:\n",
            "   Edad     Trabajo Estado_Civil  Educacion Default  Balance Vivienda  \\\n",
            "0    59      admin.      married  secondary      no     2343      yes   \n",
            "1    56      admin.      married  secondary      no       45       no   \n",
            "2    41  technician      married  secondary      no     1270      yes   \n",
            "3    55    services      married  secondary      no     2476      yes   \n",
            "4    54      admin.      married   tertiary      no      184       no   \n",
            "\n",
            "  Prestamo Contacto  Dia  Mes  Duracion  Campania  Pdias  Anterior  \\\n",
            "0       no  unknown    5  may      1042         1     -1         0   \n",
            "1       no  unknown    5  may      1467         1     -1         0   \n",
            "2       no  unknown    5  may      1389         1     -1         0   \n",
            "3       no  unknown    5  may       579         1     -1         0   \n",
            "4       no  unknown    5  may       673         2     -1         0   \n",
            "\n",
            "  Resultado_Anterior Deposito  \n",
            "0            unknown      yes  \n",
            "1            unknown      yes  \n",
            "2            unknown      yes  \n",
            "3            unknown      yes  \n",
            "4            unknown      yes  \n"
          ]
        }
      ],
      "source": [
        "# Código\n",
        "# 1. Carga de datos\n",
        "print(\"1. Carga de datos\")\n",
        "df = pd.read_csv('Marketing.csv')\n",
        "print(f\"Dimensiones del DataFrame: {df.shape}\")\n",
        "print(\"\\nPrimeras 5 filas del DataFrame:\")\n",
        "print(df.head())"
      ]
    },
    {
      "cell_type": "markdown",
      "metadata": {
        "id": "UWaQsB5hQTF_"
      },
      "source": [
        "### Exploración de Inicial de Datos"
      ]
    },
    {
      "cell_type": "code",
      "execution_count": 5,
      "metadata": {
        "id": "MiYpAK24QX0C"
      },
      "outputs": [
        {
          "name": "stdout",
          "output_type": "stream",
          "text": [
            "\n",
            "2. Exploración inicial de datos\n",
            "\n",
            "Información general del DataFrame:\n",
            "<class 'pandas.core.frame.DataFrame'>\n",
            "RangeIndex: 11162 entries, 0 to 11161\n",
            "Data columns (total 17 columns):\n",
            " #   Column              Non-Null Count  Dtype \n",
            "---  ------              --------------  ----- \n",
            " 0   Edad                11162 non-null  int64 \n",
            " 1   Trabajo             11162 non-null  object\n",
            " 2   Estado_Civil        11162 non-null  object\n",
            " 3   Educacion           11162 non-null  object\n",
            " 4   Default             11162 non-null  object\n",
            " 5   Balance             11162 non-null  int64 \n",
            " 6   Vivienda            11162 non-null  object\n",
            " 7   Prestamo            11162 non-null  object\n",
            " 8   Contacto            11162 non-null  object\n",
            " 9   Dia                 11162 non-null  int64 \n",
            " 10  Mes                 11162 non-null  object\n",
            " 11  Duracion            11162 non-null  int64 \n",
            " 12  Campania            11162 non-null  int64 \n",
            " 13  Pdias               11162 non-null  int64 \n",
            " 14  Anterior            11162 non-null  int64 \n",
            " 15  Resultado_Anterior  11162 non-null  object\n",
            " 16  Deposito            11162 non-null  object\n",
            "dtypes: int64(7), object(10)\n",
            "memory usage: 1.4+ MB\n",
            "None\n"
          ]
        }
      ],
      "source": [
        "# Código\n",
        "# 2. Exploración inicial de datos\n",
        "print(\"\\n2. Exploración inicial de datos\")\n",
        "print(\"\\nInformación general del DataFrame:\")\n",
        "print(df.info())\n"
      ]
    },
    {
      "cell_type": "code",
      "execution_count": 6,
      "metadata": {},
      "outputs": [
        {
          "name": "stdout",
          "output_type": "stream",
          "text": [
            "\n",
            "Estadísticas descriptivas:\n",
            "            count         mean          std     min    25%    50%      75%  \\\n",
            "Edad      11162.0    41.231948    11.913369    18.0   32.0   39.0    49.00   \n",
            "Balance   11162.0  1528.538524  3225.413326 -6847.0  122.0  550.0  1708.00   \n",
            "Dia       11162.0    15.658036     8.420740     1.0    8.0   15.0    22.00   \n",
            "Duracion  11162.0   371.993818   347.128386     2.0  138.0  255.0   496.00   \n",
            "Campania  11162.0     2.508421     2.722077     1.0    1.0    2.0     3.00   \n",
            "Pdias     11162.0    51.330407   108.758282    -1.0   -1.0   -1.0    20.75   \n",
            "Anterior  11162.0     0.832557     2.292007     0.0    0.0    0.0     1.00   \n",
            "\n",
            "              max  \n",
            "Edad         95.0  \n",
            "Balance   81204.0  \n",
            "Dia          31.0  \n",
            "Duracion   3881.0  \n",
            "Campania     63.0  \n",
            "Pdias       854.0  \n",
            "Anterior     58.0  \n"
          ]
        }
      ],
      "source": [
        "print(\"\\nEstadísticas descriptivas:\")\n",
        "print(df.describe().T)"
      ]
    },
    {
      "cell_type": "code",
      "execution_count": 7,
      "metadata": {},
      "outputs": [
        {
          "name": "stdout",
          "output_type": "stream",
          "text": [
            "\n",
            "Valores únicos en cada columna:\n",
            "Edad: 76\n",
            "Trabajo: 12\n",
            "Estado_Civil: 3\n",
            "Educacion: 4\n",
            "Default: 2\n",
            "Balance: 3805\n",
            "Vivienda: 2\n",
            "Prestamo: 2\n",
            "Contacto: 3\n",
            "Dia: 31\n",
            "Mes: 12\n",
            "Duracion: 1428\n",
            "Campania: 36\n",
            "Pdias: 472\n",
            "Anterior: 34\n",
            "Resultado_Anterior: 4\n",
            "Deposito: 2\n"
          ]
        }
      ],
      "source": [
        "print(\"\\nValores únicos en cada columna:\")\n",
        "for col in df.columns:\n",
        "    print(f\"{col}: {df[col].nunique()}\")"
      ]
    },
    {
      "cell_type": "code",
      "execution_count": 8,
      "metadata": {},
      "outputs": [
        {
          "name": "stdout",
          "output_type": "stream",
          "text": [
            "\n",
            "Verificación de valores nulos:\n",
            "Edad                  0\n",
            "Trabajo               0\n",
            "Estado_Civil          0\n",
            "Educacion             0\n",
            "Default               0\n",
            "Balance               0\n",
            "Vivienda              0\n",
            "Prestamo              0\n",
            "Contacto              0\n",
            "Dia                   0\n",
            "Mes                   0\n",
            "Duracion              0\n",
            "Campania              0\n",
            "Pdias                 0\n",
            "Anterior              0\n",
            "Resultado_Anterior    0\n",
            "Deposito              0\n",
            "dtype: int64\n"
          ]
        }
      ],
      "source": [
        "print(\"\\nVerificación de valores nulos:\")\n",
        "print(df.isnull().sum())"
      ]
    },
    {
      "cell_type": "markdown",
      "metadata": {
        "id": "B42BQQ0_QZ-k"
      },
      "source": [
        "### Limpieza de datos"
      ]
    },
    {
      "cell_type": "markdown",
      "metadata": {},
      "source": [
        "Limpieza de datos (parte 1)"
      ]
    },
    {
      "cell_type": "code",
      "execution_count": 9,
      "metadata": {
        "id": "2Ity7l0GQdv7"
      },
      "outputs": [
        {
          "name": "stdout",
          "output_type": "stream",
          "text": [
            "\n",
            "3. Limpieza de datos\n"
          ]
        }
      ],
      "source": [
        "# Código\n",
        "# 3. Limpieza de datos\n",
        "print(\"\\n3. Limpieza de datos\")\n",
        "\n",
        "# Convertir columnas a tipos de datos apropiados\n",
        "numeric_columns = ['Edad', 'Balance', 'Dia', 'Duracion', 'Campania', 'Pdias']\n",
        "for col in numeric_columns:\n",
        "    df[col] = pd.to_numeric(df[col], errors='coerce')\n"
      ]
    },
    {
      "cell_type": "code",
      "execution_count": 10,
      "metadata": {},
      "outputs": [],
      "source": [
        "# Convertir columnas categóricas binarias a booleano\n",
        "binary_columns = ['Default', 'Vivienda', 'Prestamo', 'Deposito']\n",
        "for col in binary_columns:\n",
        "    df[col] = df[col].map({'yes': True, 'no': False})"
      ]
    },
    {
      "cell_type": "code",
      "execution_count": 11,
      "metadata": {},
      "outputs": [],
      "source": [
        "\n",
        "# Manejar valores desconocidos en 'Educacion'\n",
        "df['Educacion'] = df['Educacion'].replace('unknown', 'No especificado')"
      ]
    },
    {
      "cell_type": "code",
      "execution_count": 12,
      "metadata": {},
      "outputs": [],
      "source": [
        "# Reemplazar -1 en 'Pdias' por 0\n",
        "df['Pdias'] = df['Pdias'].replace(-1, 0)"
      ]
    },
    {
      "cell_type": "markdown",
      "metadata": {},
      "source": [
        "Limpieza de datos (Parte 2 - tratamiento de outliers)"
      ]
    },
    {
      "cell_type": "code",
      "execution_count": 13,
      "metadata": {},
      "outputs": [
        {
          "name": "stdout",
          "output_type": "stream",
          "text": [
            "Datos después de la limpieza:\n",
            "           count        mean         std     min    25%    50%     75%     max\n",
            "Edad      9513.0   40.929044   11.805862    18.0   32.0   38.0    49.0    95.0\n",
            "Balance   9513.0  807.524440  998.439666 -2049.0   94.0  437.0  1224.0  4087.0\n",
            "Dia       9513.0   15.608325    8.468083     1.0    8.0   15.0    22.0    31.0\n",
            "Duracion  9513.0  307.122569  233.360599     2.0  131.0  237.0   423.0  1018.0\n",
            "Campania  9513.0    2.503732    2.724799     1.0    1.0    2.0     3.0    43.0\n",
            "Pdias     9513.0   53.238831  110.192279     0.0    0.0    0.0    50.0   854.0\n",
            "Anterior  9513.0    0.838747    2.254251     0.0    0.0    0.0     1.0    58.0\n"
          ]
        }
      ],
      "source": [
        "# Tratamiento de outliers usando IQR\n",
        "def remove_outliers(df, column):\n",
        "    Q1 = df[column].quantile(0.25)\n",
        "    Q3 = df[column].quantile(0.75)\n",
        "    IQR = Q3 - Q1\n",
        "    lower_bound = Q1 - 1.5 * IQR\n",
        "    upper_bound = Q3 + 1.5 * IQR\n",
        "    df = df[(df[column] >= lower_bound) & (df[column] <= upper_bound)]\n",
        "    return df\n",
        "\n",
        "df = remove_outliers(df, 'Balance')\n",
        "df = remove_outliers(df, 'Duracion')\n",
        "\n",
        "print(\"Datos después de la limpieza:\")\n",
        "print(df.describe().T)"
      ]
    },
    {
      "cell_type": "markdown",
      "metadata": {
        "id": "42mSaxnsQfHK"
      },
      "source": [
        "### Transformación de Variables"
      ]
    },
    {
      "cell_type": "code",
      "execution_count": 14,
      "metadata": {
        "id": "8i8ARD3QQjat"
      },
      "outputs": [
        {
          "name": "stdout",
          "output_type": "stream",
          "text": [
            "\n",
            "4. Transformación de variables\n"
          ]
        }
      ],
      "source": [
        "# Código\n",
        "# 4. Transformación de variables\n",
        "print(\"\\n4. Transformación de variables\")\n",
        "\n",
        "# Codificar variables categóricas\n",
        "categorical_columns = ['Trabajo', 'Estado_Civil', 'Educacion', 'Contacto', 'Mes', 'Resultado_Anterior']\n",
        "le = LabelEncoder()\n",
        "for col in categorical_columns:\n",
        "    df[col] = le.fit_transform(df[col].astype(str))\n"
      ]
    },
    {
      "cell_type": "code",
      "execution_count": 15,
      "metadata": {},
      "outputs": [],
      "source": [
        "# Normalizar 'Balance' y 'Duracion'\n",
        "scaler = StandardScaler()\n",
        "df[['Balance', 'Duracion']] = scaler.fit_transform(df[['Balance', 'Duracion']])"
      ]
    },
    {
      "cell_type": "markdown",
      "metadata": {
        "id": "2-QHYgzBQkwG"
      },
      "source": [
        "### Visualizaciones"
      ]
    },
    {
      "cell_type": "code",
      "execution_count": 18,
      "metadata": {
        "id": "JEUz9MxwQnsG"
      },
      "outputs": [],
      "source": [
        "# Código\n"
      ]
    },
    {
      "cell_type": "markdown",
      "metadata": {
        "id": "wU73yXwpQqYO"
      },
      "source": [
        "### Correlaciones y Analisis Estadístico Básico"
      ]
    },
    {
      "cell_type": "code",
      "execution_count": null,
      "metadata": {
        "id": "GvdDmoj_QwLh"
      },
      "outputs": [],
      "source": [
        "# Código"
      ]
    },
    {
      "cell_type": "markdown",
      "metadata": {
        "id": "BtywZI3jQyph"
      },
      "source": [
        "### Selección y Creación de Nuevas Caracteristicas"
      ]
    },
    {
      "cell_type": "code",
      "execution_count": null,
      "metadata": {
        "id": "DqJiwcJ5Q4RX"
      },
      "outputs": [],
      "source": [
        "# Código"
      ]
    },
    {
      "cell_type": "markdown",
      "metadata": {
        "id": "o0ripOHhQ5lN"
      },
      "source": [
        "### Preparación de Datasets para Modelado"
      ]
    },
    {
      "cell_type": "code",
      "execution_count": null,
      "metadata": {
        "id": "Lj9-zwQMQ_Io"
      },
      "outputs": [],
      "source": [
        "# Código"
      ]
    },
    {
      "cell_type": "markdown",
      "metadata": {
        "id": "OaITF6vrRB2E"
      },
      "source": [
        "### Selección de Algoritmos Adecuados"
      ]
    },
    {
      "cell_type": "code",
      "execution_count": null,
      "metadata": {
        "id": "smaJNMasRGeo"
      },
      "outputs": [],
      "source": [
        "# Código"
      ]
    },
    {
      "cell_type": "markdown",
      "metadata": {
        "id": "6fyCFZxSRIsT"
      },
      "source": [
        "### Implementación Correcta de Modelos"
      ]
    },
    {
      "cell_type": "code",
      "execution_count": null,
      "metadata": {
        "id": "_18yirw7RLq4"
      },
      "outputs": [],
      "source": [
        "# Código"
      ]
    },
    {
      "cell_type": "markdown",
      "metadata": {
        "id": "kXrjc7mzRPYm"
      },
      "source": [
        "### Evaluación del Modelo"
      ]
    },
    {
      "cell_type": "code",
      "execution_count": null,
      "metadata": {
        "id": "lNhrtSQrRR7W"
      },
      "outputs": [],
      "source": [
        "# Código"
      ]
    },
    {
      "cell_type": "markdown",
      "metadata": {
        "id": "NMAwRcr-RTdy"
      },
      "source": [
        "### Interpretación de Resultados"
      ]
    },
    {
      "cell_type": "code",
      "execution_count": null,
      "metadata": {
        "id": "egu1EjYbRYfX"
      },
      "outputs": [],
      "source": [
        "# Código"
      ]
    },
    {
      "cell_type": "markdown",
      "metadata": {
        "id": "kWDZWxkqRcsD"
      },
      "source": [
        "### Conclusiones y recomendaciones"
      ]
    },
    {
      "cell_type": "code",
      "execution_count": null,
      "metadata": {
        "id": "v0vcAdoARglh"
      },
      "outputs": [],
      "source": [
        "# Código"
      ]
    }
  ],
  "metadata": {
    "colab": {
      "provenance": []
    },
    "kernelspec": {
      "display_name": "Python 3",
      "name": "python3"
    },
    "language_info": {
      "codemirror_mode": {
        "name": "ipython",
        "version": 3
      },
      "file_extension": ".py",
      "mimetype": "text/x-python",
      "name": "python",
      "nbconvert_exporter": "python",
      "pygments_lexer": "ipython3",
      "version": "3.11.7"
    }
  },
  "nbformat": 4,
  "nbformat_minor": 0
}
